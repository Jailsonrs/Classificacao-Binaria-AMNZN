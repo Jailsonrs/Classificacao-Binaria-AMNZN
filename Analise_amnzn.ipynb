{
  "nbformat": 4,
  "nbformat_minor": 0,
  "metadata": {
    "colab": {
      "name": "Analise_amnzn.ipynb",
      "provenance": [],
      "collapsed_sections": [],
      "include_colab_link": true
    },
    "kernelspec": {
      "name": "ir",
      "display_name": "R"
    }
  },
  "cells": [
    {
      "cell_type": "markdown",
      "metadata": {
        "id": "view-in-github",
        "colab_type": "text"
      },
      "source": [
        "<a href=\"https://colab.research.google.com/github/Jailsonrs/Classificacao-Binaria-AMNZN/blob/main/Analise_amnzn.ipynb\" target=\"_parent\"><img src=\"https://colab.research.google.com/assets/colab-badge.svg\" alt=\"Open In Colab\"/></a>"
      ]
    },
    {
      "cell_type": "markdown",
      "metadata": {
        "id": "MiPJKGvDEgPl"
      },
      "source": [
        "###Outline\n",
        "\n",
        "* Introdução\n",
        "* Metodologia\n",
        "  * Descrição dos procedimentos\n",
        "*Aplicação\n",
        "  * Análise Descritiva e Limpeza\n",
        "  * Treinamento dos modelos \n",
        "    * glmnet\n",
        "    * Random Forest\n",
        "    * Random Forest com Oversampling\n",
        "* Resultados e conclusões\n",
        "    * Estratégia de monitoramento e deploy\n"
      ]
    },
    {
      "cell_type": "markdown",
      "metadata": {
        "id": "FA3Ebm48IJKb"
      },
      "source": [
        "\n",
        "\n",
        "---\n",
        "\n"
      ]
    },
    {
      "cell_type": "markdown",
      "metadata": {
        "id": "6R6PUNfnwa_P"
      },
      "source": [
        "#Introdução"
      ]
    },
    {
      "cell_type": "markdown",
      "metadata": {
        "id": "ForwCRQBwfb4"
      },
      "source": [
        "Nesse notebook ajustaremos dois modelos preditivos de classificação binária.\n",
        " \n",
        "Começamereos com uma elastic net e em seguida um Random Forest. Por fim, treinaremos uma Random Forest com sobreamostragem e verificaremos o impacto na performance dos modelos.\n",
        " \n",
        "O modelo preditivo escolhido deverá ser capaz de classificar a cada dia a probabilidade de que a ação da empresa ***AMZN*** negociada na Nasdaq alcance nos próximos 10 dias uma valorização de no\n",
        "mínimo 4% e que não desvalorize mais que 2,5%.\n",
        " \n",
        "Como o objetivo do modelo é alcançar uma boa capacidade preditiva para os critérios acima, não focaremos tanto nos preditores lineares e suas propriedades estatísticas e nem em interpretabilidade. Portanto, tomaremos uma abordagem focada em ***Machine Learning***.\n",
        " \n",
        " \n",
        " \n",
        "---"
      ]
    },
    {
      "cell_type": "markdown",
      "metadata": {
        "id": "qVRbpfRWGv5k"
      },
      "source": [
        "#Metodologia"
      ]
    },
    {
      "cell_type": "markdown",
      "metadata": {
        "id": "KOE5SUf5rGfB"
      },
      "source": [
        "Primeiro foi conduzida uma Análise exploratória de dados e foram removidas as variáveis com pouca ou nenhuma variabilidade. Variáveis infladas de zero também foram removidas pois podem causar sobredispersão e diminuir a precisão dos modelos.\n",
        "\n",
        "O dataset foi higienizado e as variáveis foram 'parseadas' para seus tipos adequados. \n",
        "\n",
        "Procurou-se reduzir a dimensionalidade o máximo possivel para não tornar o modelo super parametrizado, assim evitando overfitting durante o treinamento. \n",
        "\n",
        "Os modelos utilizados foram Regressão logística regularizada e Random Forest (RF). No RF foi treinada uma variante utilizando o método SMOTE para dados desbalanceados.\n",
        "\n",
        "O método de grid search foi implementado tendo em vista a redução da possibilidade de overfitting. \n",
        "\n",
        "Utilizou-se também n-fold crossvalidation, com $n=6$.\n",
        "Foram utilzados 6 folds, pois esse valor mantém aproximadamente a proporção 75/25 para treino e teste durante o treinamento.\n",
        "\n",
        "Por fim, os resultados dos modelos foram comparados utilizando diversas metricas que levassem em conta o desbalanceamento das classes, comparando com métricas padrão e decidiu-se utilizar o que obteve maior performance.\n"
      ]
    },
    {
      "cell_type": "markdown",
      "metadata": {
        "id": "UmVjjNOxH-HG"
      },
      "source": [
        "\n",
        "\n",
        "---\n",
        "\n"
      ]
    },
    {
      "cell_type": "markdown",
      "metadata": {
        "id": "XDf8jtFJH8AB"
      },
      "source": [
        "#Aplicação"
      ]
    },
    {
      "cell_type": "markdown",
      "metadata": {
        "id": "bUnDZgXdtFPD"
      },
      "source": [
        "Dependências necessárias para rodar o notebook passo a passo:"
      ]
    },
    {
      "cell_type": "code",
      "metadata": {
        "id": "X8gFBiJxIEov"
      },
      "source": [
        "library(dplyr) \n",
        "library('data.table')\n",
        "library(devtools)\n",
        "library(purrr)\n",
        "library('caret')\n",
        "library('e1071')\n",
        "library('glmnet')\n",
        "library('DMwR')\n",
        "library(\"Hmisc\")\n",
        "library('MLmetrics')\n",
        "library(\"knitr\")\n",
        "library('kableExtra')\n",
        "\n",
        "options(warnings=-1,warn=-1)"
      ],
      "execution_count": null,
      "outputs": []
    },
    {
      "cell_type": "markdown",
      "metadata": {
        "id": "2DYMzO9jxH-R"
      },
      "source": [
        "### *Análise descritiva e limpeza*\n",
        "\n"
      ]
    },
    {
      "cell_type": "markdown",
      "metadata": {
        "id": "NMpNZAloN1dD"
      },
      "source": [
        "\n",
        "\n",
        "\n",
        "*   ***Leitura dos dados***\n",
        "\n",
        "\n",
        "\n"
      ]
    },
    {
      "cell_type": "code",
      "metadata": {
        "id": "QQMZ7goS02zG"
      },
      "source": [
        "##reading dataset\n",
        "setwd(\"/\")\n",
        "data = data.table::fread('/content/sample_data/AMZN ATUALIZADO.csv', \n",
        "                            sep=';', dec = ',')\n",
        "##Renaming response levelsinstall.packages\n",
        "data$Variavel_resposta <- ifelse(data$Variavel_resposta == 1,\n",
        "                                                    'Sim',\n",
        "                                                    'Nao')"
      ],
      "execution_count": null,
      "outputs": []
    },
    {
      "cell_type": "markdown",
      "metadata": {
        "id": "A-00lK8Bunge"
      },
      "source": [
        "\n",
        "\n",
        "*   ***Dados faltantes***\n",
        "\n",
        "\n"
      ]
    },
    {
      "cell_type": "markdown",
      "metadata": {
        "id": "XSowMz1xut6o"
      },
      "source": [
        "\n",
        "Depois de uma breve análise da distribuição de dados faltantes, escolheu-se removê-los por questão de simplicidade. Haviam 30 observações faltantes na variável resposta."
      ]
    },
    {
      "cell_type": "code",
      "metadata": {
        "colab": {
          "base_uri": "https://localhost:8080/",
          "height": 253
        },
        "id": "uSZb0hiFNTo-",
        "outputId": "e74198b5-169e-4a19-b3ef-a3c12555b760"
      },
      "source": [
        "head(data,3)"
      ],
      "execution_count": null,
      "outputs": [
        {
          "output_type": "display_data",
          "data": {
            "text/plain": [
              "  date             ticker         ALPHA_OVERRIDABLE ASSET_CVRG_RATIO\n",
              "1 12/02/2010 00:00 AMZN US Equity 0.1841            13,6285         \n",
              "2 16/02/2010 00:00 AMZN US Equity 0.1837            13,6285         \n",
              "3 17/02/2010 00:00 AMZN US Equity 0.1804            13,6285         \n",
              "  BB_1YR_DEFAULT_PROB BB_2Y_DEFAULT_PROB BB_3Y_DEFAULT_PROB BB_4Y_DEFAULT_PROB\n",
              "1 3.0138e-05          0.000721139        0.002394981        0.004595436       \n",
              "2 3.1043e-05          0.000732654        0.002420904        0.004634488       \n",
              "3 3.1587e-05          0.000739574        0.002436533        0.004658125       \n",
              "  BB_5Y_DEFAULT_PROB BEST_ANALYST_RATING ⋯ VAR_SWAP_12M_LV VOLATILITY_20D\n",
              "1 0.007077496        4.306               ⋯ 0               33.915        \n",
              "2 0.007125953        4.306               ⋯ 0               34.224        \n",
              "3 0.007155382        4.306               ⋯ 0               34.085        \n",
              "  VOLATILITY_260D VOLATILITY_30D VOLATILITY_360D VOLATILITY_90D VWAP_VOLUME\n",
              "1 45.736          31.347         62.273          51.194         8024738    \n",
              "2 45.577          31.623         62.226          51.053         8897440    \n",
              "3 45.485          31.503         62.218          51.066         8902406    \n",
              "  WACC_COST_DEBT WACC_COST_EQUITY Variavel_resposta\n",
              "1 3.2031         10.4506          Nao              \n",
              "2 3.2031         10.4506          Sim              \n",
              "3 3.2031         10.4506          Sim              "
            ],
            "text/latex": "A data.table: 3 × 109\n\\begin{tabular}{lllllllllllllllllllll}\n date & ticker & ALPHA\\_OVERRIDABLE & ASSET\\_CVRG\\_RATIO & BB\\_1YR\\_DEFAULT\\_PROB & BB\\_2Y\\_DEFAULT\\_PROB & BB\\_3Y\\_DEFAULT\\_PROB & BB\\_4Y\\_DEFAULT\\_PROB & BB\\_5Y\\_DEFAULT\\_PROB & BEST\\_ANALYST\\_RATING & ⋯ & VAR\\_SWAP\\_12M\\_LV & VOLATILITY\\_20D & VOLATILITY\\_260D & VOLATILITY\\_30D & VOLATILITY\\_360D & VOLATILITY\\_90D & VWAP\\_VOLUME & WACC\\_COST\\_DEBT & WACC\\_COST\\_EQUITY & Variavel\\_resposta\\\\\n <chr> & <chr> & <dbl> & <chr> & <dbl> & <dbl> & <dbl> & <dbl> & <dbl> & <dbl> & ⋯ & <dbl> & <dbl> & <dbl> & <dbl> & <dbl> & <dbl> & <int> & <dbl> & <dbl> & <fct>\\\\\n\\hline\n\t 12/02/2010 00:00 & AMZN US Equity & 0.1841 & 13,6285 & 3.0138e-05 & 0.000721139 & 0.002394981 & 0.004595436 & 0.007077496 & 4.306 & ⋯ & 0 & 33.915 & 45.736 & 31.347 & 62.273 & 51.194 & 8024738 & 3.2031 & 10.4506 & Nao\\\\\n\t 16/02/2010 00:00 & AMZN US Equity & 0.1837 & 13,6285 & 3.1043e-05 & 0.000732654 & 0.002420904 & 0.004634488 & 0.007125953 & 4.306 & ⋯ & 0 & 34.224 & 45.577 & 31.623 & 62.226 & 51.053 & 8897440 & 3.2031 & 10.4506 & Sim\\\\\n\t 17/02/2010 00:00 & AMZN US Equity & 0.1804 & 13,6285 & 3.1587e-05 & 0.000739574 & 0.002436533 & 0.004658125 & 0.007155382 & 4.306 & ⋯ & 0 & 34.085 & 45.485 & 31.503 & 62.218 & 51.066 & 8902406 & 3.2031 & 10.4506 & Sim\\\\\n\\end{tabular}\n",
            "text/markdown": "\nA data.table: 3 × 109\n\n| date &lt;chr&gt; | ticker &lt;chr&gt; | ALPHA_OVERRIDABLE &lt;dbl&gt; | ASSET_CVRG_RATIO &lt;chr&gt; | BB_1YR_DEFAULT_PROB &lt;dbl&gt; | BB_2Y_DEFAULT_PROB &lt;dbl&gt; | BB_3Y_DEFAULT_PROB &lt;dbl&gt; | BB_4Y_DEFAULT_PROB &lt;dbl&gt; | BB_5Y_DEFAULT_PROB &lt;dbl&gt; | BEST_ANALYST_RATING &lt;dbl&gt; | ⋯ ⋯ | VAR_SWAP_12M_LV &lt;dbl&gt; | VOLATILITY_20D &lt;dbl&gt; | VOLATILITY_260D &lt;dbl&gt; | VOLATILITY_30D &lt;dbl&gt; | VOLATILITY_360D &lt;dbl&gt; | VOLATILITY_90D &lt;dbl&gt; | VWAP_VOLUME &lt;int&gt; | WACC_COST_DEBT &lt;dbl&gt; | WACC_COST_EQUITY &lt;dbl&gt; | Variavel_resposta &lt;fct&gt; |\n|---|---|---|---|---|---|---|---|---|---|---|---|---|---|---|---|---|---|---|---|---|\n| 12/02/2010 00:00 | AMZN US Equity | 0.1841 | 13,6285 | 3.0138e-05 | 0.000721139 | 0.002394981 | 0.004595436 | 0.007077496 | 4.306 | ⋯ | 0 | 33.915 | 45.736 | 31.347 | 62.273 | 51.194 | 8024738 | 3.2031 | 10.4506 | Nao |\n| 16/02/2010 00:00 | AMZN US Equity | 0.1837 | 13,6285 | 3.1043e-05 | 0.000732654 | 0.002420904 | 0.004634488 | 0.007125953 | 4.306 | ⋯ | 0 | 34.224 | 45.577 | 31.623 | 62.226 | 51.053 | 8897440 | 3.2031 | 10.4506 | Sim |\n| 17/02/2010 00:00 | AMZN US Equity | 0.1804 | 13,6285 | 3.1587e-05 | 0.000739574 | 0.002436533 | 0.004658125 | 0.007155382 | 4.306 | ⋯ | 0 | 34.085 | 45.485 | 31.503 | 62.218 | 51.066 | 8902406 | 3.2031 | 10.4506 | Sim |\n\n",
            "text/html": [
              "<table>\n",
              "<caption>A data.table: 3 × 109</caption>\n",
              "<thead>\n",
              "\t<tr><th scope=col>date</th><th scope=col>ticker</th><th scope=col>ALPHA_OVERRIDABLE</th><th scope=col>ASSET_CVRG_RATIO</th><th scope=col>BB_1YR_DEFAULT_PROB</th><th scope=col>BB_2Y_DEFAULT_PROB</th><th scope=col>BB_3Y_DEFAULT_PROB</th><th scope=col>BB_4Y_DEFAULT_PROB</th><th scope=col>BB_5Y_DEFAULT_PROB</th><th scope=col>BEST_ANALYST_RATING</th><th scope=col>⋯</th><th scope=col>VAR_SWAP_12M_LV</th><th scope=col>VOLATILITY_20D</th><th scope=col>VOLATILITY_260D</th><th scope=col>VOLATILITY_30D</th><th scope=col>VOLATILITY_360D</th><th scope=col>VOLATILITY_90D</th><th scope=col>VWAP_VOLUME</th><th scope=col>WACC_COST_DEBT</th><th scope=col>WACC_COST_EQUITY</th><th scope=col>Variavel_resposta</th></tr>\n",
              "\t<tr><th scope=col>&lt;chr&gt;</th><th scope=col>&lt;chr&gt;</th><th scope=col>&lt;dbl&gt;</th><th scope=col>&lt;chr&gt;</th><th scope=col>&lt;dbl&gt;</th><th scope=col>&lt;dbl&gt;</th><th scope=col>&lt;dbl&gt;</th><th scope=col>&lt;dbl&gt;</th><th scope=col>&lt;dbl&gt;</th><th scope=col>&lt;dbl&gt;</th><th scope=col>⋯</th><th scope=col>&lt;dbl&gt;</th><th scope=col>&lt;dbl&gt;</th><th scope=col>&lt;dbl&gt;</th><th scope=col>&lt;dbl&gt;</th><th scope=col>&lt;dbl&gt;</th><th scope=col>&lt;dbl&gt;</th><th scope=col>&lt;int&gt;</th><th scope=col>&lt;dbl&gt;</th><th scope=col>&lt;dbl&gt;</th><th scope=col>&lt;fct&gt;</th></tr>\n",
              "</thead>\n",
              "<tbody>\n",
              "\t<tr><td>12/02/2010 00:00</td><td>AMZN US Equity</td><td>0.1841</td><td>13,6285</td><td>3.0138e-05</td><td>0.000721139</td><td>0.002394981</td><td>0.004595436</td><td>0.007077496</td><td>4.306</td><td>⋯</td><td>0</td><td>33.915</td><td>45.736</td><td>31.347</td><td>62.273</td><td>51.194</td><td>8024738</td><td>3.2031</td><td>10.4506</td><td>Nao</td></tr>\n",
              "\t<tr><td>16/02/2010 00:00</td><td>AMZN US Equity</td><td>0.1837</td><td>13,6285</td><td>3.1043e-05</td><td>0.000732654</td><td>0.002420904</td><td>0.004634488</td><td>0.007125953</td><td>4.306</td><td>⋯</td><td>0</td><td>34.224</td><td>45.577</td><td>31.623</td><td>62.226</td><td>51.053</td><td>8897440</td><td>3.2031</td><td>10.4506</td><td>Sim</td></tr>\n",
              "\t<tr><td>17/02/2010 00:00</td><td>AMZN US Equity</td><td>0.1804</td><td>13,6285</td><td>3.1587e-05</td><td>0.000739574</td><td>0.002436533</td><td>0.004658125</td><td>0.007155382</td><td>4.306</td><td>⋯</td><td>0</td><td>34.085</td><td>45.485</td><td>31.503</td><td>62.218</td><td>51.066</td><td>8902406</td><td>3.2031</td><td>10.4506</td><td>Sim</td></tr>\n",
              "</tbody>\n",
              "</table>\n"
            ]
          },
          "metadata": {
            "tags": []
          }
        }
      ]
    },
    {
      "cell_type": "code",
      "metadata": {
        "colab": {
          "base_uri": "https://localhost:8080/",
          "height": 173
        },
        "id": "5ChbUDBj0ugZ",
        "outputId": "a2f741e2-bef1-4476-fc0c-1fb6630e7f58"
      },
      "source": [
        "data %>% group_by(Variavel_resposta) %>%\n",
        "         summarise(count = n(), .groups = 'drop') %>% \n",
        "         kable(format = 'markdown', \n",
        "         caption = 'Contagem de valores da variável resposta')"
      ],
      "execution_count": null,
      "outputs": [
        {
          "output_type": "display_data",
          "data": {
            "text/plain": [
              "\n",
              "\n",
              "Table: Contagem de valores da variável resposta\n",
              "\n",
              "|Variavel_resposta | count|\n",
              "|:-----------------|-----:|\n",
              "|Nao               |  1909|\n",
              "|Sim               |   944|\n",
              "|NA                |    34|"
            ]
          },
          "metadata": {
            "tags": []
          }
        }
      ]
    },
    {
      "cell_type": "markdown",
      "metadata": {
        "id": "xRffbtXb1BTJ"
      },
      "source": [
        "***Obs: As quatro observações NA adicionais são linhas vazias que foram lidas junto com o dataset.***"
      ]
    },
    {
      "cell_type": "code",
      "metadata": {
        "id": "07jbS3qHON61"
      },
      "source": [
        "##removendo  NA's \n",
        "data$Variavel_resposta <- as.factor(data$Variavel_resposta);data <- na.omit(data)"
      ],
      "execution_count": null,
      "outputs": []
    },
    {
      "cell_type": "code",
      "metadata": {
        "colab": {
          "base_uri": "https://localhost:8080/",
          "height": 156
        },
        "id": "Wo5oNYlKg8I8",
        "outputId": "65056932-0de9-4b4e-86d1-4145d35de442"
      },
      "source": [
        "##recontando frequencia nas classes\n",
        "data %>% group_by(Variavel_resposta) %>%\n",
        "         summarise(count = n(), .groups = 'drop') %>% \n",
        "         kable(format = 'markdown', \n",
        "         caption = 'Contagem de valores da variável resposta' )"
      ],
      "execution_count": null,
      "outputs": [
        {
          "output_type": "display_data",
          "data": {
            "text/plain": [
              "\n",
              "\n",
              "Table: Contagem de valores da variável resposta\n",
              "\n",
              "|Variavel_resposta | count|\n",
              "|:-----------------|-----:|\n",
              "|Nao               |  1909|\n",
              "|Sim               |   944|"
            ]
          },
          "metadata": {
            "tags": []
          }
        }
      ]
    },
    {
      "cell_type": "markdown",
      "metadata": {
        "id": "d3IH65wo0Ljc"
      },
      "source": [
        "\n",
        "\n",
        "---\n",
        "\n"
      ]
    },
    {
      "cell_type": "markdown",
      "metadata": {
        "id": "G2dCu3fouQVn"
      },
      "source": [
        "\n",
        "\n",
        "*   ***Baixa variabilidade nas variáveis***\n",
        "\n"
      ]
    },
    {
      "cell_type": "markdown",
      "metadata": {
        "id": "ZgGxsTTXt2i1"
      },
      "source": [
        "As variáveis abaixo não possuem riqueza de variabilidade, podendo essas apenas trazer ruído ou causar um sobreajuste no modelo. Portanto, optei por tirá-las.\n"
      ]
    },
    {
      "cell_type": "code",
      "metadata": {
        "colab": {
          "base_uri": "https://localhost:8080/",
          "height": 693
        },
        "id": "OCbaBc31uhzK",
        "outputId": "c459e4d0-21bf-4c49-97a0-3273404477c3"
      },
      "source": [
        "select_if(data[,-1], is_character) %>%\n",
        "        lapply(unique) %>% names() %>% \n",
        "                     data.frame () %>%\n",
        "                     kable(format=\"markdown\",\n",
        "                     caption = 'Variáveis que serão retiradas do modelo por \\n       terem pouca variabilidade')"
      ],
      "execution_count": null,
      "outputs": [
        {
          "output_type": "display_data",
          "data": {
            "text/plain": [
              "\n",
              "\n",
              "Table: Variáveis que serão retiradas do modelo por \n",
              "       terem pouca variabilidade\n",
              "\n",
              "|.                              |\n",
              "|:------------------------------|\n",
              "|ticker                         |\n",
              "|ASSET_CVRG_RATIO               |\n",
              "|CAPITAL_EXPEND                 |\n",
              "|CAP_EXPEND_RATIO               |\n",
              "|CASH_RATIO                     |\n",
              "|CFO_TO_AVG_CURRENT_LIABILITIES |\n",
              "|CF_CASH_FROM_OPER              |\n",
              "|CF_FREE_CASH_FLOW              |\n",
              "|CUR_RATIO                      |\n",
              "|EARN_FOR_COMMON                |\n",
              "|EBITDA                         |\n",
              "|EBITDA_TO_INTEREST_EXPN        |\n",
              "|EBITDA_TO_REVENUE              |\n",
              "|EBIT_TO_INT_EXP                |\n",
              "|ENTERPRISE_VALUE               |\n",
              "|EV_TO_T12M_SALES               |\n",
              "|FCF_TO_TOTAL_DEBT              |\n",
              "|GROSS_MARGIN                   |\n",
              "|GROSS_PROFIT                   |\n",
              "|HISTORICAL_MARKET_CAP          |\n",
              "|IS_DIL_EPS_CONT_OPS            |\n",
              "|NET_DEBT                       |\n",
              "|NET_DEBT_TO_CASHFLOW           |\n",
              "|NET_DEBT_TO_EBITDA             |\n",
              "|NET_INCOME_TO_COMMON_MARGIN    |\n",
              "|QUICK_RATIO                    |\n",
              "|SALES_GROWTH                   |\n",
              "|SALES_REV_TURN                 |\n",
              "|SHORT_AND_LONG_TERM_DEBT       |\n",
              "|TOTAL_DEBT_TO_EV               |\n",
              "|TOT_DEBT_TO_COM_EQY            |\n",
              "|TOT_DEBT_TO_TOT_ASSET          |"
            ]
          },
          "metadata": {
            "tags": []
          }
        }
      ]
    },
    {
      "cell_type": "markdown",
      "metadata": {
        "id": "sXwbfZL1z-aD"
      },
      "source": [
        "\n",
        "Como  não estamos levando em consideração a dependência temporal dos dados, mas sim a ocorrência de um evento determinado pelos critérios citados na introdução, a coluna de Data também não será necessária."
      ]
    },
    {
      "cell_type": "markdown",
      "metadata": {
        "id": "8HlucNJ-4dnm"
      },
      "source": [
        "\n",
        "\n",
        "---\n",
        "\n"
      ]
    },
    {
      "cell_type": "markdown",
      "metadata": {
        "id": "JJCVbCint9Z8"
      },
      "source": [
        "\n",
        "\n",
        "*   ***Dados desbalanceados***\n",
        "\n",
        "\n",
        "\n",
        "\n"
      ]
    },
    {
      "cell_type": "markdown",
      "metadata": {
        "id": "NQlIa3694yPn"
      },
      "source": [
        "Abaixo, podemos observar que os dados estão um pouco desbalanceados, podendo gerar diversos problemas de precisão e avaliação no nosso modelo.\n",
        "\n",
        "Temos uma proporção de 33% na classe Positiva, enquanto que na classe negativa temos 67% do total das observações.\n",
        "\n",
        "Dados desbalanceados são geralmente ocasionados por um plano amostral ruim, que acaba inserindo algum tipo de 'viés' no processo de amostragem, consequentemente retirando as boas propriedades dos estimadores (não enviesado, consistência e completude)\n",
        "\n",
        "No mundo do IOT, como o processo de coleta de dados é automatizado (eventos em streaming de dados), esse problema pode ocasionado por um processo de mensuração errôneo, que pode ser análogo a um plano amostral ruim.\n",
        "\n",
        "Podemos contornar esse problema com algoritmos de sobreamostragem ou subamostragem e as métricas comuns de avaliação devem ser vistas com cuidado para nao nos conduzir a erros."
      ]
    },
    {
      "cell_type": "code",
      "metadata": {
        "colab": {
          "base_uri": "https://localhost:8080/",
          "height": 110
        },
        "id": "6WY33BVc0Ykz",
        "outputId": "7101d9f2-4f36-471a-8005-4247c2ae14fd"
      },
      "source": [
        "### proporção nas classes\n",
        "data %>% group_by(Variavel_resposta,) %>% summarise(count=n(),.groups='drop') %>% \n",
        "        mutate(prop = paste0((round(count/sum(count),2)*100),\"%\"))"
      ],
      "execution_count": null,
      "outputs": [
        {
          "output_type": "display_data",
          "data": {
            "text/plain": [
              "  Variavel_resposta count prop\n",
              "1 Nao               1909  67% \n",
              "2 Sim                944  33% "
            ],
            "text/latex": "A tibble: 2 × 3\n\\begin{tabular}{lll}\n Variavel\\_resposta & count & prop\\\\\n <fct> & <int> & <chr>\\\\\n\\hline\n\t Nao & 1909 & 67\\%\\\\\n\t Sim &  944 & 33\\%\\\\\n\\end{tabular}\n",
            "text/markdown": "\nA tibble: 2 × 3\n\n| Variavel_resposta &lt;fct&gt; | count &lt;int&gt; | prop &lt;chr&gt; |\n|---|---|---|\n| Nao | 1909 | 67% |\n| Sim |  944 | 33% |\n\n",
            "text/html": [
              "<table>\n",
              "<caption>A tibble: 2 × 3</caption>\n",
              "<thead>\n",
              "\t<tr><th scope=col>Variavel_resposta</th><th scope=col>count</th><th scope=col>prop</th></tr>\n",
              "\t<tr><th scope=col>&lt;fct&gt;</th><th scope=col>&lt;int&gt;</th><th scope=col>&lt;chr&gt;</th></tr>\n",
              "</thead>\n",
              "<tbody>\n",
              "\t<tr><td>Nao</td><td>1909</td><td>67%</td></tr>\n",
              "\t<tr><td>Sim</td><td> 944</td><td>33%</td></tr>\n",
              "</tbody>\n",
              "</table>\n"
            ]
          },
          "metadata": {
            "tags": []
          }
        }
      ]
    },
    {
      "cell_type": "markdown",
      "metadata": {
        "id": "hsakuYQu-ygA"
      },
      "source": [
        "\n",
        "\n",
        "---\n",
        "\n"
      ]
    },
    {
      "cell_type": "markdown",
      "metadata": {
        "id": "r4ZyCmWzvPs2"
      },
      "source": [
        "\n",
        "\n",
        "*   ***Variáveis inflacionadas de zeros***\n",
        "\n",
        "\n"
      ]
    },
    {
      "cell_type": "markdown",
      "metadata": {
        "id": "C0wBoYYIxaR5"
      },
      "source": [
        "O dataset está quase pronto, faltando apenas remover as variáveis inflacionadas com zeros"
      ]
    },
    {
      "cell_type": "code",
      "metadata": {
        "colab": {
          "base_uri": "https://localhost:8080/",
          "height": 222
        },
        "id": "3MUU0f_JZoRg",
        "outputId": "3e993b5c-94a6-4612-e560-55623bf4ce02"
      },
      "source": [
        "dim(dados) ; select_if(data, is_numeric) %>% tibble() -> dados ; head(dados)"
      ],
      "execution_count": null,
      "outputs": [
        {
          "output_type": "display_data",
          "data": {
            "text/plain": [
              "[1] 2853   76"
            ],
            "text/latex": "\\begin{enumerate*}\n\\item 2853\n\\item 76\n\\end{enumerate*}\n",
            "text/markdown": "1. 2853\n2. 76\n\n\n",
            "text/html": [
              "<style>\n",
              ".list-inline {list-style: none; margin:0; padding: 0}\n",
              ".list-inline>li {display: inline-block}\n",
              ".list-inline>li:not(:last-child)::after {content: \"\\00b7\"; padding: 0 .5ex}\n",
              "</style>\n",
              "<ol class=list-inline><li>2853</li><li>76</li></ol>\n"
            ]
          },
          "metadata": {
            "tags": []
          }
        },
        {
          "output_type": "display_data",
          "data": {
            "text/plain": [
              "  ALPHA_OVERRIDABLE BB_1YR_DEFAULT_PROB BB_2Y_DEFAULT_PROB BB_3Y_DEFAULT_PROB\n",
              "1 0.1841            3.0138e-05          0.000721139        0.002394981       \n",
              "2 0.1837            3.1043e-05          0.000732654        0.002420904       \n",
              "3 0.1804            3.1587e-05          0.000739574        0.002436533       \n",
              "4 0.1816            3.0804e-05          0.000729587        0.002413965       \n",
              "5 0.1799            3.1048e-05          0.000732714        0.002421041       \n",
              "6 0.1819            2.9971e-05          0.000718368        0.002387851       \n",
              "  BB_4Y_DEFAULT_PROB BB_5Y_DEFAULT_PROB BEST_ANALYST_RATING BEST_BPS BEST_CPS\n",
              "1 0.004595436        0.007077496        4.306               0        0       \n",
              "2 0.004634488        0.007125953        4.306               0        0       \n",
              "3 0.004658125        0.007155382        4.306               0        0       \n",
              "4 0.004623984        0.007112868        4.306               0        0       \n",
              "5 0.004634696        0.007126212        4.306               0        0       \n",
              "6 0.004583570        0.007061672        4.306               0        0       \n",
              "  BEST_CUR_EV_TO_EBITDA ⋯ VAR_SWAP_12M_LV VOLATILITY_20D VOLATILITY_260D\n",
              "1 0                     ⋯ 0               33.915         45.736         \n",
              "2 0                     ⋯ 0               34.224         45.577         \n",
              "3 0                     ⋯ 0               34.085         45.485         \n",
              "4 0                     ⋯ 0               34.610         45.229         \n",
              "5 0                     ⋯ 0               31.257         45.234         \n",
              "6 0                     ⋯ 0               31.184         44.901         \n",
              "  VOLATILITY_30D VOLATILITY_360D VOLATILITY_90D VWAP_VOLUME WACC_COST_DEBT\n",
              "1 31.347         62.273          51.194         8024738     3.2031        \n",
              "2 31.623         62.226          51.053         8897440     3.2031        \n",
              "3 31.503         62.218          51.066         8902406     3.2031        \n",
              "4 31.787         62.219          51.111         9623213     3.2031        \n",
              "5 31.522         62.204          50.949         7031321     3.2031        \n",
              "6 30.212         61.653          50.918         6799982     3.2031        \n",
              "  WACC_COST_EQUITY Variavel_resposta\n",
              "1 10.4506          Nao              \n",
              "2 10.4506          Sim              \n",
              "3 10.4506          Sim              \n",
              "4 10.4506          Sim              \n",
              "5 10.4506          Sim              \n",
              "6 10.4506          Sim              "
            ],
            "text/latex": "A tibble: 6 × 76\n\\begin{tabular}{lllllllllllllllllllll}\n ALPHA\\_OVERRIDABLE & BB\\_1YR\\_DEFAULT\\_PROB & BB\\_2Y\\_DEFAULT\\_PROB & BB\\_3Y\\_DEFAULT\\_PROB & BB\\_4Y\\_DEFAULT\\_PROB & BB\\_5Y\\_DEFAULT\\_PROB & BEST\\_ANALYST\\_RATING & BEST\\_BPS & BEST\\_CPS & BEST\\_CUR\\_EV\\_TO\\_EBITDA & ⋯ & VAR\\_SWAP\\_12M\\_LV & VOLATILITY\\_20D & VOLATILITY\\_260D & VOLATILITY\\_30D & VOLATILITY\\_360D & VOLATILITY\\_90D & VWAP\\_VOLUME & WACC\\_COST\\_DEBT & WACC\\_COST\\_EQUITY & Variavel\\_resposta\\\\\n <dbl> & <dbl> & <dbl> & <dbl> & <dbl> & <dbl> & <dbl> & <dbl> & <dbl> & <dbl> & ⋯ & <dbl> & <dbl> & <dbl> & <dbl> & <dbl> & <dbl> & <int> & <dbl> & <dbl> & <fct>\\\\\n\\hline\n\t 0.1841 & 3.0138e-05 & 0.000721139 & 0.002394981 & 0.004595436 & 0.007077496 & 4.306 & 0 & 0 & 0 & ⋯ & 0 & 33.915 & 45.736 & 31.347 & 62.273 & 51.194 & 8024738 & 3.2031 & 10.4506 & Nao\\\\\n\t 0.1837 & 3.1043e-05 & 0.000732654 & 0.002420904 & 0.004634488 & 0.007125953 & 4.306 & 0 & 0 & 0 & ⋯ & 0 & 34.224 & 45.577 & 31.623 & 62.226 & 51.053 & 8897440 & 3.2031 & 10.4506 & Sim\\\\\n\t 0.1804 & 3.1587e-05 & 0.000739574 & 0.002436533 & 0.004658125 & 0.007155382 & 4.306 & 0 & 0 & 0 & ⋯ & 0 & 34.085 & 45.485 & 31.503 & 62.218 & 51.066 & 8902406 & 3.2031 & 10.4506 & Sim\\\\\n\t 0.1816 & 3.0804e-05 & 0.000729587 & 0.002413965 & 0.004623984 & 0.007112868 & 4.306 & 0 & 0 & 0 & ⋯ & 0 & 34.610 & 45.229 & 31.787 & 62.219 & 51.111 & 9623213 & 3.2031 & 10.4506 & Sim\\\\\n\t 0.1799 & 3.1048e-05 & 0.000732714 & 0.002421041 & 0.004634696 & 0.007126212 & 4.306 & 0 & 0 & 0 & ⋯ & 0 & 31.257 & 45.234 & 31.522 & 62.204 & 50.949 & 7031321 & 3.2031 & 10.4506 & Sim\\\\\n\t 0.1819 & 2.9971e-05 & 0.000718368 & 0.002387851 & 0.004583570 & 0.007061672 & 4.306 & 0 & 0 & 0 & ⋯ & 0 & 31.184 & 44.901 & 30.212 & 61.653 & 50.918 & 6799982 & 3.2031 & 10.4506 & Sim\\\\\n\\end{tabular}\n",
            "text/markdown": "\nA tibble: 6 × 76\n\n| ALPHA_OVERRIDABLE &lt;dbl&gt; | BB_1YR_DEFAULT_PROB &lt;dbl&gt; | BB_2Y_DEFAULT_PROB &lt;dbl&gt; | BB_3Y_DEFAULT_PROB &lt;dbl&gt; | BB_4Y_DEFAULT_PROB &lt;dbl&gt; | BB_5Y_DEFAULT_PROB &lt;dbl&gt; | BEST_ANALYST_RATING &lt;dbl&gt; | BEST_BPS &lt;dbl&gt; | BEST_CPS &lt;dbl&gt; | BEST_CUR_EV_TO_EBITDA &lt;dbl&gt; | ⋯ ⋯ | VAR_SWAP_12M_LV &lt;dbl&gt; | VOLATILITY_20D &lt;dbl&gt; | VOLATILITY_260D &lt;dbl&gt; | VOLATILITY_30D &lt;dbl&gt; | VOLATILITY_360D &lt;dbl&gt; | VOLATILITY_90D &lt;dbl&gt; | VWAP_VOLUME &lt;int&gt; | WACC_COST_DEBT &lt;dbl&gt; | WACC_COST_EQUITY &lt;dbl&gt; | Variavel_resposta &lt;fct&gt; |\n|---|---|---|---|---|---|---|---|---|---|---|---|---|---|---|---|---|---|---|---|---|\n| 0.1841 | 3.0138e-05 | 0.000721139 | 0.002394981 | 0.004595436 | 0.007077496 | 4.306 | 0 | 0 | 0 | ⋯ | 0 | 33.915 | 45.736 | 31.347 | 62.273 | 51.194 | 8024738 | 3.2031 | 10.4506 | Nao |\n| 0.1837 | 3.1043e-05 | 0.000732654 | 0.002420904 | 0.004634488 | 0.007125953 | 4.306 | 0 | 0 | 0 | ⋯ | 0 | 34.224 | 45.577 | 31.623 | 62.226 | 51.053 | 8897440 | 3.2031 | 10.4506 | Sim |\n| 0.1804 | 3.1587e-05 | 0.000739574 | 0.002436533 | 0.004658125 | 0.007155382 | 4.306 | 0 | 0 | 0 | ⋯ | 0 | 34.085 | 45.485 | 31.503 | 62.218 | 51.066 | 8902406 | 3.2031 | 10.4506 | Sim |\n| 0.1816 | 3.0804e-05 | 0.000729587 | 0.002413965 | 0.004623984 | 0.007112868 | 4.306 | 0 | 0 | 0 | ⋯ | 0 | 34.610 | 45.229 | 31.787 | 62.219 | 51.111 | 9623213 | 3.2031 | 10.4506 | Sim |\n| 0.1799 | 3.1048e-05 | 0.000732714 | 0.002421041 | 0.004634696 | 0.007126212 | 4.306 | 0 | 0 | 0 | ⋯ | 0 | 31.257 | 45.234 | 31.522 | 62.204 | 50.949 | 7031321 | 3.2031 | 10.4506 | Sim |\n| 0.1819 | 2.9971e-05 | 0.000718368 | 0.002387851 | 0.004583570 | 0.007061672 | 4.306 | 0 | 0 | 0 | ⋯ | 0 | 31.184 | 44.901 | 30.212 | 61.653 | 50.918 | 6799982 | 3.2031 | 10.4506 | Sim |\n\n",
            "text/html": [
              "<table>\n",
              "<caption>A tibble: 6 × 76</caption>\n",
              "<thead>\n",
              "\t<tr><th scope=col>ALPHA_OVERRIDABLE</th><th scope=col>BB_1YR_DEFAULT_PROB</th><th scope=col>BB_2Y_DEFAULT_PROB</th><th scope=col>BB_3Y_DEFAULT_PROB</th><th scope=col>BB_4Y_DEFAULT_PROB</th><th scope=col>BB_5Y_DEFAULT_PROB</th><th scope=col>BEST_ANALYST_RATING</th><th scope=col>BEST_BPS</th><th scope=col>BEST_CPS</th><th scope=col>BEST_CUR_EV_TO_EBITDA</th><th scope=col>⋯</th><th scope=col>VAR_SWAP_12M_LV</th><th scope=col>VOLATILITY_20D</th><th scope=col>VOLATILITY_260D</th><th scope=col>VOLATILITY_30D</th><th scope=col>VOLATILITY_360D</th><th scope=col>VOLATILITY_90D</th><th scope=col>VWAP_VOLUME</th><th scope=col>WACC_COST_DEBT</th><th scope=col>WACC_COST_EQUITY</th><th scope=col>Variavel_resposta</th></tr>\n",
              "\t<tr><th scope=col>&lt;dbl&gt;</th><th scope=col>&lt;dbl&gt;</th><th scope=col>&lt;dbl&gt;</th><th scope=col>&lt;dbl&gt;</th><th scope=col>&lt;dbl&gt;</th><th scope=col>&lt;dbl&gt;</th><th scope=col>&lt;dbl&gt;</th><th scope=col>&lt;dbl&gt;</th><th scope=col>&lt;dbl&gt;</th><th scope=col>&lt;dbl&gt;</th><th scope=col>⋯</th><th scope=col>&lt;dbl&gt;</th><th scope=col>&lt;dbl&gt;</th><th scope=col>&lt;dbl&gt;</th><th scope=col>&lt;dbl&gt;</th><th scope=col>&lt;dbl&gt;</th><th scope=col>&lt;dbl&gt;</th><th scope=col>&lt;int&gt;</th><th scope=col>&lt;dbl&gt;</th><th scope=col>&lt;dbl&gt;</th><th scope=col>&lt;fct&gt;</th></tr>\n",
              "</thead>\n",
              "<tbody>\n",
              "\t<tr><td>0.1841</td><td>3.0138e-05</td><td>0.000721139</td><td>0.002394981</td><td>0.004595436</td><td>0.007077496</td><td>4.306</td><td>0</td><td>0</td><td>0</td><td>⋯</td><td>0</td><td>33.915</td><td>45.736</td><td>31.347</td><td>62.273</td><td>51.194</td><td>8024738</td><td>3.2031</td><td>10.4506</td><td>Nao</td></tr>\n",
              "\t<tr><td>0.1837</td><td>3.1043e-05</td><td>0.000732654</td><td>0.002420904</td><td>0.004634488</td><td>0.007125953</td><td>4.306</td><td>0</td><td>0</td><td>0</td><td>⋯</td><td>0</td><td>34.224</td><td>45.577</td><td>31.623</td><td>62.226</td><td>51.053</td><td>8897440</td><td>3.2031</td><td>10.4506</td><td>Sim</td></tr>\n",
              "\t<tr><td>0.1804</td><td>3.1587e-05</td><td>0.000739574</td><td>0.002436533</td><td>0.004658125</td><td>0.007155382</td><td>4.306</td><td>0</td><td>0</td><td>0</td><td>⋯</td><td>0</td><td>34.085</td><td>45.485</td><td>31.503</td><td>62.218</td><td>51.066</td><td>8902406</td><td>3.2031</td><td>10.4506</td><td>Sim</td></tr>\n",
              "\t<tr><td>0.1816</td><td>3.0804e-05</td><td>0.000729587</td><td>0.002413965</td><td>0.004623984</td><td>0.007112868</td><td>4.306</td><td>0</td><td>0</td><td>0</td><td>⋯</td><td>0</td><td>34.610</td><td>45.229</td><td>31.787</td><td>62.219</td><td>51.111</td><td>9623213</td><td>3.2031</td><td>10.4506</td><td>Sim</td></tr>\n",
              "\t<tr><td>0.1799</td><td>3.1048e-05</td><td>0.000732714</td><td>0.002421041</td><td>0.004634696</td><td>0.007126212</td><td>4.306</td><td>0</td><td>0</td><td>0</td><td>⋯</td><td>0</td><td>31.257</td><td>45.234</td><td>31.522</td><td>62.204</td><td>50.949</td><td>7031321</td><td>3.2031</td><td>10.4506</td><td>Sim</td></tr>\n",
              "\t<tr><td>0.1819</td><td>2.9971e-05</td><td>0.000718368</td><td>0.002387851</td><td>0.004583570</td><td>0.007061672</td><td>4.306</td><td>0</td><td>0</td><td>0</td><td>⋯</td><td>0</td><td>31.184</td><td>44.901</td><td>30.212</td><td>61.653</td><td>50.918</td><td>6799982</td><td>3.2031</td><td>10.4506</td><td>Sim</td></tr>\n",
              "</tbody>\n",
              "</table>\n"
            ]
          },
          "metadata": {
            "tags": []
          }
        }
      ]
    },
    {
      "cell_type": "markdown",
      "metadata": {
        "id": "Labv09st5A9O"
      },
      "source": [
        "Podemos observar que existem colunas em que a ocorrência do valor zero é muito abundante (mais que 65% dos valores de cada variável)\n",
        "\n",
        "Como a literatura sugere que o excesso de zeros pode ser \n",
        "gerado por um mecanismo distinto da fonte original dos dados, iremos remover essas variáveis."
      ]
    },
    {
      "cell_type": "code",
      "metadata": {
        "colab": {
          "base_uri": "https://localhost:8080/"
        },
        "id": "avMBY5zumVs8",
        "outputId": "8e449e9c-a12e-4cbf-d241-4177e97443f3"
      },
      "source": [
        "##Vetor com colunas infladas de zero\n",
        "colunas_comzeros = c(\"BEST_ROE\"\n",
        " ,\"BEST_PEG_RATIO\"            \n",
        " ,\"BEST_OPP\"                  \n",
        " ,\"BEST_PE_RATIO_GAAP\"        \n",
        " ,\"BEST_CUR_EV_TO_EBITDA\"\n",
        " ,\"BEST_BPS\"                  \n",
        " ,\"BEST_CPS\" \n",
        " ,\"BEST_EBIT\"                 \n",
        " ,\"BEST_EBITDA\"               \n",
        " ,\"BEST_EPS\"                  \n",
        " ,\"BEST_EPS_GAAP\"             \n",
        " ,\"BEST_EPS_MEDIAN\"           \n",
        " ,\"BEST_EPS_NUMEST\"           \n",
        " ,\"BEST_NET_DEBT\"             \n",
        " ,\"BEST_NET_INCOME\"           \n",
        " ,\"BEST_SALES\")\n",
        " \n",
        "#\n",
        "for(i in colunas_comzeros){\n",
        "  dados %>% group_by_at(i) %>% summarise(count = n(),.groups='drop') %>% \n",
        "                                  arrange(-count) %>% \n",
        "           mutate(prop =  paste0(round(count/sum(count)*100,2),\"%\")) %>% \n",
        "           head(3) %>% \n",
        "           knitr::kable(caption = paste(\"Proporção de zeros na variável\",i),\n",
        "           format=\"markdown\",\n",
        "           col.names=c(i,\n",
        "           'Contagem de valores',\n",
        "           \"Proporção\"),\n",
        "            align = \"lcr\") %>% print        \n",
        "}    \n",
        "\n",
        "##ranking (top 3) de valores mais frequentes nas variáveis"
      ],
      "execution_count": null,
      "outputs": [
        {
          "output_type": "stream",
          "text": [
            "\n",
            "\n",
            "Table: Proporção de zeros na variável BEST_ROE\n",
            "\n",
            "|BEST_ROE | Contagem de valores | Proporção|\n",
            "|:--------|:-------------------:|---------:|\n",
            "|0.00     |        2393         |    83.88%|\n",
            "|29.25    |         60          |      2.1%|\n",
            "|21.10    |         57          |        2%|\n",
            "\n",
            "\n",
            "Table: Proporção de zeros na variável BEST_PEG_RATIO\n",
            "\n",
            "|BEST_PEG_RATIO | Contagem de valores | Proporção|\n",
            "|:--------------|:-------------------:|---------:|\n",
            "|0.000          |        2300         |    80.62%|\n",
            "|1.221          |          5          |     0.18%|\n",
            "|1.201          |          4          |     0.14%|\n",
            "\n",
            "\n",
            "Table: Proporção de zeros na variável BEST_OPP\n",
            "\n",
            "|BEST_OPP | Contagem de valores | Proporção|\n",
            "|:--------|:-------------------:|---------:|\n",
            "|0.000    |        2042         |    71.57%|\n",
            "|2674.000 |         68          |     2.38%|\n",
            "|3932.667 |         58          |     2.03%|\n",
            "\n",
            "\n",
            "Table: Proporção de zeros na variável BEST_PE_RATIO_GAAP\n",
            "\n",
            "|BEST_PE_RATIO_GAAP | Contagem de valores | Proporção|\n",
            "|:------------------|:-------------------:|---------:|\n",
            "|0.000              |        2043         |    71.61%|\n",
            "|81.137             |          4          |     0.14%|\n",
            "|63.168             |          3          |     0.11%|\n",
            "\n",
            "\n",
            "Table: Proporção de zeros na variável BEST_CUR_EV_TO_EBITDA\n",
            "\n",
            "|BEST_CUR_EV_TO_EBITDA | Contagem de valores | Proporção|\n",
            "|:---------------------|:-------------------:|---------:|\n",
            "|0.000                 |        2043         |    71.61%|\n",
            "|19.192                |          4          |     0.14%|\n",
            "|17.761                |          3          |     0.11%|\n",
            "\n",
            "\n",
            "Table: Proporção de zeros na variável BEST_BPS\n",
            "\n",
            "|BEST_BPS | Contagem de valores | Proporção|\n",
            "|:--------|:-------------------:|---------:|\n",
            "|0.000    |        1877         |    65.79%|\n",
            "|94.620   |         128         |     4.49%|\n",
            "|75.595   |         71          |     2.49%|\n",
            "\n",
            "\n",
            "Table: Proporção de zeros na variável BEST_CPS\n",
            "\n",
            "|BEST_CPS | Contagem de valores | Proporção|\n",
            "|:--------|:-------------------:|---------:|\n",
            "|0.00     |        1867         |    65.44%|\n",
            "|13.01    |         321         |    11.25%|\n",
            "|11.30    |         66          |     2.31%|\n",
            "\n",
            "\n",
            "Table: Proporção de zeros na variável BEST_EBIT\n",
            "\n",
            "|BEST_EBIT | Contagem de valores | Proporção|\n",
            "|:---------|:-------------------:|---------:|\n",
            "|0.0       |        1866         |     65.4%|\n",
            "|4080.2    |         74          |     2.59%|\n",
            "|3319.0    |         71          |     2.49%|\n",
            "\n",
            "\n",
            "Table: Proporção de zeros na variável BEST_EBITDA\n",
            "\n",
            "|BEST_EBITDA | Contagem de valores | Proporção|\n",
            "|:-----------|:-------------------:|---------:|\n",
            "|0.0         |        1844         |    64.63%|\n",
            "|7754.0      |         66          |     2.31%|\n",
            "|7645.5      |         58          |     2.03%|\n",
            "\n",
            "\n",
            "Table: Proporção de zeros na variável BEST_EPS\n",
            "\n",
            "|BEST_EPS | Contagem de valores | Proporção|\n",
            "|:--------|:-------------------:|---------:|\n",
            "|0.00     |        1915         |    67.12%|\n",
            "|7.05     |         198         |     6.94%|\n",
            "|6.47     |         55          |     1.93%|\n",
            "\n",
            "\n",
            "Table: Proporção de zeros na variável BEST_EPS_GAAP\n",
            "\n",
            "|BEST_EPS_GAAP | Contagem de valores | Proporção|\n",
            "|:-------------|:-------------------:|---------:|\n",
            "|0.000         |        1836         |    64.35%|\n",
            "|4.945         |         58          |     2.03%|\n",
            "|5.420         |         55          |     1.93%|\n",
            "\n",
            "\n",
            "Table: Proporção de zeros na variável BEST_EPS_MEDIAN\n",
            "\n",
            "|BEST_EPS_MEDIAN | Contagem de valores | Proporção|\n",
            "|:---------------|:-------------------:|---------:|\n",
            "|0.00            |        1915         |    67.12%|\n",
            "|7.05            |         199         |     6.98%|\n",
            "|7.70            |         60          |      2.1%|\n",
            "\n",
            "\n",
            "Table: Proporção de zeros na variável BEST_EPS_NUMEST\n",
            "\n",
            "|BEST_EPS_NUMEST | Contagem de valores | Proporção|\n",
            "|:---------------|:-------------------:|---------:|\n",
            "|0               |        1915         |    67.12%|\n",
            "|1               |         198         |     6.94%|\n",
            "|17              |         162         |     5.68%|\n",
            "\n",
            "\n",
            "Table: Proporção de zeros na variável BEST_NET_DEBT\n",
            "\n",
            "|BEST_NET_DEBT | Contagem de valores | Proporção|\n",
            "|:-------------|:-------------------:|---------:|\n",
            "|0             |        1874         |    65.69%|\n",
            "|-17859        |         86          |     3.01%|\n",
            "|-11867        |         69          |     2.42%|\n",
            "\n",
            "\n",
            "Table: Proporção de zeros na variável BEST_NET_INCOME\n",
            "\n",
            "|BEST_NET_INCOME | Contagem de valores | Proporção|\n",
            "|:---------------|:-------------------:|---------:|\n",
            "|0.0             |        1856         |    65.05%|\n",
            "|3479.0          |         202         |     7.08%|\n",
            "|3639.5          |         60          |      2.1%|\n",
            "\n",
            "\n",
            "Table: Proporção de zeros na variável BEST_SALES\n",
            "\n",
            "|BEST_SALES | Contagem de valores | Proporção|\n",
            "|:----------|:-------------------:|---------:|\n",
            "|0.0        |        1837         |    64.39%|\n",
            "|56483.5    |         58          |     2.03%|\n",
            "|55775.5    |         55          |     1.93%|\n"
          ],
          "name": "stdout"
        }
      ]
    },
    {
      "cell_type": "code",
      "metadata": {
        "id": "UUDTApHP7fY8"
      },
      "source": [
        "## removendo variáveis infladas de zero\n",
        "dados %>% select(-c(\"BEST_BPS\"                  \n",
        " ,\"BEST_CPS\" \n",
        " ,\"BEST_CUR_EV_TO_EBITDA\"\n",
        " ,\"BEST_EBIT\"                 \n",
        " ,\"BEST_EBITDA\"               \n",
        " ,\"BEST_EPS\"                  \n",
        " ,\"BEST_EPS_GAAP\"             \n",
        " ,\"BEST_EPS_MEDIAN\"           \n",
        " ,\"BEST_EPS_NUMEST\"           \n",
        " ,\"BEST_NET_DEBT\"             \n",
        " ,\"BEST_NET_INCOME\"           \n",
        " ,\"BEST_OPP\"                  \n",
        " ,\"BEST_PEG_RATIO\"            \n",
        " ,\"BEST_PE_RATIO_GAAP\"        \n",
        " ,\"BEST_ROE\"\n",
        " ,\"BEST_SALES\")) -> dados"
      ],
      "execution_count": null,
      "outputs": []
    },
    {
      "cell_type": "markdown",
      "metadata": {
        "id": "aw_Cp-tqwDti"
      },
      "source": [
        "\n",
        "\n",
        "---\n",
        "\n"
      ]
    },
    {
      "cell_type": "markdown",
      "metadata": {
        "id": "Jk1tP4E6v3qc"
      },
      "source": [
        "\n",
        "*   ***Parsing dos dados***\n",
        "\n"
      ]
    },
    {
      "cell_type": "markdown",
      "metadata": {
        "id": "1lA90vqbi8Dd"
      },
      "source": [
        "Na próxima célula, convertemos algumas variáveis **int** para **factor** (categórica) pois faz mais sentido por serem discretas e possuirem classes bem definidas."
      ]
    },
    {
      "cell_type": "code",
      "metadata": {
        "id": "NYoiy5p46RI1"
      },
      "source": [
        "## convertendo o tipo de algumas variáveis codificadas para fator.\n",
        "dados$TOT_SELL_REC <- factor(dados$TOT_SELL_REC)\n",
        "dados$BLOOMBERG_ISSUER_DEFAULT_SCORE  <- factor(dados$BLOOMBERG_ISSUER_DEFAULT_SCORE )\n",
        "dados$TOT_HOLD_REC <- factor(dados$BLOOMBERG_ISSUER_DEFAULT_SCORE )\n",
        "dados$TOT_SELL_REC <- factor(dados$BLOOMBERG_ISSUER_DEFAULT_SCORE )\n",
        "##removendo as colunas  'NUM_TRADES' e 'PX_OFFICIAL_CLOSE'\n",
        "dados <- dados[,-which(names(dados) %in% c('NUM_TRADES','PX_OFFICIAL_CLOSE'))]"
      ],
      "execution_count": null,
      "outputs": []
    },
    {
      "cell_type": "markdown",
      "metadata": {
        "id": "sPXssf7ekPKn"
      },
      "source": [
        "Agora temos o dataset final, pronto para ser inserido no modelo:"
      ]
    },
    {
      "cell_type": "code",
      "metadata": {
        "colab": {
          "base_uri": "https://localhost:8080/",
          "height": 222
        },
        "id": "v_a0r7CyG43R",
        "outputId": "a97e6fe5-82e7-4665-c57d-dbcfbc2a4880"
      },
      "source": [
        "paste(\"O dataset final possui\",dim(dados)[1],'observações','e',dim(dados)[2],'variáveis.')\n",
        "head(dados[sample(1:dim(dados)[1],10) ,])"
      ],
      "execution_count": null,
      "outputs": [
        {
          "output_type": "display_data",
          "data": {
            "text/plain": [
              "[1] \"O dataset final possui 2853 observações e 58 variáveis.\""
            ],
            "text/latex": "'O dataset final possui 2853 observações e 58 variáveis.'",
            "text/markdown": "'O dataset final possui 2853 observações e 58 variáveis.'",
            "text/html": [
              "'O dataset final possui 2853 observações e 58 variáveis.'"
            ]
          },
          "metadata": {
            "tags": []
          }
        },
        {
          "output_type": "display_data",
          "data": {
            "text/plain": [
              "  ALPHA_OVERRIDABLE BB_1YR_DEFAULT_PROB BB_2Y_DEFAULT_PROB BB_3Y_DEFAULT_PROB\n",
              "1  0.0859           1.3600e-05          0.000452287        0.001719844       \n",
              "2 -0.0334           1.0302e-05          0.000377539        0.001504331       \n",
              "3 -0.0284           1.0601e-05          0.000382180        0.001514509       \n",
              "4  0.1375           2.0250e-06          0.000159429        0.000863608       \n",
              "5  0.0836           1.4409e-05          0.000465568        0.001751840       \n",
              "6  0.1439           3.8800e-07          0.000058677        0.000437830       \n",
              "  BB_4Y_DEFAULT_PROB BB_5Y_DEFAULT_PROB BEST_ANALYST_RATING BEST_TARGET_PRICE\n",
              "1 0.003505322        0.005655800        4.622                653.444         \n",
              "2 0.003129068        0.005137567        4.140                392.056         \n",
              "3 0.003142793        0.005152473        4.163                390.265         \n",
              "4 0.002041289        0.003682680        4.222                195.370         \n",
              "5 0.003554146        0.005716373        4.674                652.568         \n",
              "6 0.001171730        0.002352411        4.769               1655.488         \n",
              "  BETA_ADJ_OVERRIDABLE BETA_STD_DEV_ERR_OVERRIDABLE ⋯ VAR_SWAP_12M_LV\n",
              "1 1.1917               0.0984                       ⋯ 39.80606       \n",
              "2 1.3153               0.1014                       ⋯ 31.18163       \n",
              "3 1.3031               0.1002                       ⋯ 31.67606       \n",
              "4 0.9648               0.0714                       ⋯ 34.78831       \n",
              "5 1.2046               0.1015                       ⋯ 42.26206       \n",
              "6 1.0239               0.0925                       ⋯ 34.39238       \n",
              "  VOLATILITY_20D VOLATILITY_260D VOLATILITY_30D VOLATILITY_360D VOLATILITY_90D\n",
              "1 29.186         33.693          37.271         32.896          33.792        \n",
              "2 23.441         33.462          23.663         31.229          31.876        \n",
              "3 20.147         33.363          21.544         30.239          30.586        \n",
              "4 39.947         33.510          33.891         38.797          32.249        \n",
              "5 47.478         33.265          39.084         34.241          31.522        \n",
              "6 32.912         22.059          27.702         22.405          29.068        \n",
              "  VWAP_VOLUME WACC_COST_DEBT WACC_COST_EQUITY Variavel_resposta\n",
              "1 3350224     0.8899          9.6577          Sim              \n",
              "2 4603654     0.9915         11.9345          Nao              \n",
              "3 2337139     2.4641         12.2127          Nao              \n",
              "4 5149867     2.4750         11.3154          Sim              \n",
              "5 2657635     1.0127          9.9689          Sim              \n",
              "6 4662142     2.2145         10.8376          Nao              "
            ],
            "text/latex": "A tibble: 6 × 58\n\\begin{tabular}{lllllllllllllllllllll}\n ALPHA\\_OVERRIDABLE & BB\\_1YR\\_DEFAULT\\_PROB & BB\\_2Y\\_DEFAULT\\_PROB & BB\\_3Y\\_DEFAULT\\_PROB & BB\\_4Y\\_DEFAULT\\_PROB & BB\\_5Y\\_DEFAULT\\_PROB & BEST\\_ANALYST\\_RATING & BEST\\_TARGET\\_PRICE & BETA\\_ADJ\\_OVERRIDABLE & BETA\\_STD\\_DEV\\_ERR\\_OVERRIDABLE & ⋯ & VAR\\_SWAP\\_12M\\_LV & VOLATILITY\\_20D & VOLATILITY\\_260D & VOLATILITY\\_30D & VOLATILITY\\_360D & VOLATILITY\\_90D & VWAP\\_VOLUME & WACC\\_COST\\_DEBT & WACC\\_COST\\_EQUITY & Variavel\\_resposta\\\\\n <dbl> & <dbl> & <dbl> & <dbl> & <dbl> & <dbl> & <dbl> & <dbl> & <dbl> & <dbl> & ⋯ & <dbl> & <dbl> & <dbl> & <dbl> & <dbl> & <dbl> & <int> & <dbl> & <dbl> & <fct>\\\\\n\\hline\n\t  0.0859 & 1.3600e-05 & 0.000452287 & 0.001719844 & 0.003505322 & 0.005655800 & 4.622 &  653.444 & 1.1917 & 0.0984 & ⋯ & 39.80606 & 29.186 & 33.693 & 37.271 & 32.896 & 33.792 & 3350224 & 0.8899 &  9.6577 & Sim\\\\\n\t -0.0334 & 1.0302e-05 & 0.000377539 & 0.001504331 & 0.003129068 & 0.005137567 & 4.140 &  392.056 & 1.3153 & 0.1014 & ⋯ & 31.18163 & 23.441 & 33.462 & 23.663 & 31.229 & 31.876 & 4603654 & 0.9915 & 11.9345 & Nao\\\\\n\t -0.0284 & 1.0601e-05 & 0.000382180 & 0.001514509 & 0.003142793 & 0.005152473 & 4.163 &  390.265 & 1.3031 & 0.1002 & ⋯ & 31.67606 & 20.147 & 33.363 & 21.544 & 30.239 & 30.586 & 2337139 & 2.4641 & 12.2127 & Nao\\\\\n\t  0.1375 & 2.0250e-06 & 0.000159429 & 0.000863608 & 0.002041289 & 0.003682680 & 4.222 &  195.370 & 0.9648 & 0.0714 & ⋯ & 34.78831 & 39.947 & 33.510 & 33.891 & 38.797 & 32.249 & 5149867 & 2.4750 & 11.3154 & Sim\\\\\n\t  0.0836 & 1.4409e-05 & 0.000465568 & 0.001751840 & 0.003554146 & 0.005716373 & 4.674 &  652.568 & 1.2046 & 0.1015 & ⋯ & 42.26206 & 47.478 & 33.265 & 39.084 & 34.241 & 31.522 & 2657635 & 1.0127 &  9.9689 & Sim\\\\\n\t  0.1439 & 3.8800e-07 & 0.000058677 & 0.000437830 & 0.001171730 & 0.002352411 & 4.769 & 1655.488 & 1.0239 & 0.0925 & ⋯ & 34.39238 & 32.912 & 22.059 & 27.702 & 22.405 & 29.068 & 4662142 & 2.2145 & 10.8376 & Nao\\\\\n\\end{tabular}\n",
            "text/markdown": "\nA tibble: 6 × 58\n\n| ALPHA_OVERRIDABLE &lt;dbl&gt; | BB_1YR_DEFAULT_PROB &lt;dbl&gt; | BB_2Y_DEFAULT_PROB &lt;dbl&gt; | BB_3Y_DEFAULT_PROB &lt;dbl&gt; | BB_4Y_DEFAULT_PROB &lt;dbl&gt; | BB_5Y_DEFAULT_PROB &lt;dbl&gt; | BEST_ANALYST_RATING &lt;dbl&gt; | BEST_TARGET_PRICE &lt;dbl&gt; | BETA_ADJ_OVERRIDABLE &lt;dbl&gt; | BETA_STD_DEV_ERR_OVERRIDABLE &lt;dbl&gt; | ⋯ ⋯ | VAR_SWAP_12M_LV &lt;dbl&gt; | VOLATILITY_20D &lt;dbl&gt; | VOLATILITY_260D &lt;dbl&gt; | VOLATILITY_30D &lt;dbl&gt; | VOLATILITY_360D &lt;dbl&gt; | VOLATILITY_90D &lt;dbl&gt; | VWAP_VOLUME &lt;int&gt; | WACC_COST_DEBT &lt;dbl&gt; | WACC_COST_EQUITY &lt;dbl&gt; | Variavel_resposta &lt;fct&gt; |\n|---|---|---|---|---|---|---|---|---|---|---|---|---|---|---|---|---|---|---|---|---|\n|  0.0859 | 1.3600e-05 | 0.000452287 | 0.001719844 | 0.003505322 | 0.005655800 | 4.622 |  653.444 | 1.1917 | 0.0984 | ⋯ | 39.80606 | 29.186 | 33.693 | 37.271 | 32.896 | 33.792 | 3350224 | 0.8899 |  9.6577 | Sim |\n| -0.0334 | 1.0302e-05 | 0.000377539 | 0.001504331 | 0.003129068 | 0.005137567 | 4.140 |  392.056 | 1.3153 | 0.1014 | ⋯ | 31.18163 | 23.441 | 33.462 | 23.663 | 31.229 | 31.876 | 4603654 | 0.9915 | 11.9345 | Nao |\n| -0.0284 | 1.0601e-05 | 0.000382180 | 0.001514509 | 0.003142793 | 0.005152473 | 4.163 |  390.265 | 1.3031 | 0.1002 | ⋯ | 31.67606 | 20.147 | 33.363 | 21.544 | 30.239 | 30.586 | 2337139 | 2.4641 | 12.2127 | Nao |\n|  0.1375 | 2.0250e-06 | 0.000159429 | 0.000863608 | 0.002041289 | 0.003682680 | 4.222 |  195.370 | 0.9648 | 0.0714 | ⋯ | 34.78831 | 39.947 | 33.510 | 33.891 | 38.797 | 32.249 | 5149867 | 2.4750 | 11.3154 | Sim |\n|  0.0836 | 1.4409e-05 | 0.000465568 | 0.001751840 | 0.003554146 | 0.005716373 | 4.674 |  652.568 | 1.2046 | 0.1015 | ⋯ | 42.26206 | 47.478 | 33.265 | 39.084 | 34.241 | 31.522 | 2657635 | 1.0127 |  9.9689 | Sim |\n|  0.1439 | 3.8800e-07 | 0.000058677 | 0.000437830 | 0.001171730 | 0.002352411 | 4.769 | 1655.488 | 1.0239 | 0.0925 | ⋯ | 34.39238 | 32.912 | 22.059 | 27.702 | 22.405 | 29.068 | 4662142 | 2.2145 | 10.8376 | Nao |\n\n",
            "text/html": [
              "<table>\n",
              "<caption>A tibble: 6 × 58</caption>\n",
              "<thead>\n",
              "\t<tr><th scope=col>ALPHA_OVERRIDABLE</th><th scope=col>BB_1YR_DEFAULT_PROB</th><th scope=col>BB_2Y_DEFAULT_PROB</th><th scope=col>BB_3Y_DEFAULT_PROB</th><th scope=col>BB_4Y_DEFAULT_PROB</th><th scope=col>BB_5Y_DEFAULT_PROB</th><th scope=col>BEST_ANALYST_RATING</th><th scope=col>BEST_TARGET_PRICE</th><th scope=col>BETA_ADJ_OVERRIDABLE</th><th scope=col>BETA_STD_DEV_ERR_OVERRIDABLE</th><th scope=col>⋯</th><th scope=col>VAR_SWAP_12M_LV</th><th scope=col>VOLATILITY_20D</th><th scope=col>VOLATILITY_260D</th><th scope=col>VOLATILITY_30D</th><th scope=col>VOLATILITY_360D</th><th scope=col>VOLATILITY_90D</th><th scope=col>VWAP_VOLUME</th><th scope=col>WACC_COST_DEBT</th><th scope=col>WACC_COST_EQUITY</th><th scope=col>Variavel_resposta</th></tr>\n",
              "\t<tr><th scope=col>&lt;dbl&gt;</th><th scope=col>&lt;dbl&gt;</th><th scope=col>&lt;dbl&gt;</th><th scope=col>&lt;dbl&gt;</th><th scope=col>&lt;dbl&gt;</th><th scope=col>&lt;dbl&gt;</th><th scope=col>&lt;dbl&gt;</th><th scope=col>&lt;dbl&gt;</th><th scope=col>&lt;dbl&gt;</th><th scope=col>&lt;dbl&gt;</th><th scope=col>⋯</th><th scope=col>&lt;dbl&gt;</th><th scope=col>&lt;dbl&gt;</th><th scope=col>&lt;dbl&gt;</th><th scope=col>&lt;dbl&gt;</th><th scope=col>&lt;dbl&gt;</th><th scope=col>&lt;dbl&gt;</th><th scope=col>&lt;int&gt;</th><th scope=col>&lt;dbl&gt;</th><th scope=col>&lt;dbl&gt;</th><th scope=col>&lt;fct&gt;</th></tr>\n",
              "</thead>\n",
              "<tbody>\n",
              "\t<tr><td> 0.0859</td><td>1.3600e-05</td><td>0.000452287</td><td>0.001719844</td><td>0.003505322</td><td>0.005655800</td><td>4.622</td><td> 653.444</td><td>1.1917</td><td>0.0984</td><td>⋯</td><td>39.80606</td><td>29.186</td><td>33.693</td><td>37.271</td><td>32.896</td><td>33.792</td><td>3350224</td><td>0.8899</td><td> 9.6577</td><td>Sim</td></tr>\n",
              "\t<tr><td>-0.0334</td><td>1.0302e-05</td><td>0.000377539</td><td>0.001504331</td><td>0.003129068</td><td>0.005137567</td><td>4.140</td><td> 392.056</td><td>1.3153</td><td>0.1014</td><td>⋯</td><td>31.18163</td><td>23.441</td><td>33.462</td><td>23.663</td><td>31.229</td><td>31.876</td><td>4603654</td><td>0.9915</td><td>11.9345</td><td>Nao</td></tr>\n",
              "\t<tr><td>-0.0284</td><td>1.0601e-05</td><td>0.000382180</td><td>0.001514509</td><td>0.003142793</td><td>0.005152473</td><td>4.163</td><td> 390.265</td><td>1.3031</td><td>0.1002</td><td>⋯</td><td>31.67606</td><td>20.147</td><td>33.363</td><td>21.544</td><td>30.239</td><td>30.586</td><td>2337139</td><td>2.4641</td><td>12.2127</td><td>Nao</td></tr>\n",
              "\t<tr><td> 0.1375</td><td>2.0250e-06</td><td>0.000159429</td><td>0.000863608</td><td>0.002041289</td><td>0.003682680</td><td>4.222</td><td> 195.370</td><td>0.9648</td><td>0.0714</td><td>⋯</td><td>34.78831</td><td>39.947</td><td>33.510</td><td>33.891</td><td>38.797</td><td>32.249</td><td>5149867</td><td>2.4750</td><td>11.3154</td><td>Sim</td></tr>\n",
              "\t<tr><td> 0.0836</td><td>1.4409e-05</td><td>0.000465568</td><td>0.001751840</td><td>0.003554146</td><td>0.005716373</td><td>4.674</td><td> 652.568</td><td>1.2046</td><td>0.1015</td><td>⋯</td><td>42.26206</td><td>47.478</td><td>33.265</td><td>39.084</td><td>34.241</td><td>31.522</td><td>2657635</td><td>1.0127</td><td> 9.9689</td><td>Sim</td></tr>\n",
              "\t<tr><td> 0.1439</td><td>3.8800e-07</td><td>0.000058677</td><td>0.000437830</td><td>0.001171730</td><td>0.002352411</td><td>4.769</td><td>1655.488</td><td>1.0239</td><td>0.0925</td><td>⋯</td><td>34.39238</td><td>32.912</td><td>22.059</td><td>27.702</td><td>22.405</td><td>29.068</td><td>4662142</td><td>2.2145</td><td>10.8376</td><td>Nao</td></tr>\n",
              "</tbody>\n",
              "</table>\n"
            ]
          },
          "metadata": {
            "tags": []
          }
        }
      ]
    },
    {
      "cell_type": "markdown",
      "metadata": {
        "id": "h9x0U605YSTm"
      },
      "source": [
        "\n",
        "\n",
        "---\n",
        "\n"
      ]
    },
    {
      "cell_type": "markdown",
      "metadata": {
        "id": "IpVnVjRnlzZH"
      },
      "source": [
        "### *Split dos dados*\n",
        "\n"
      ]
    },
    {
      "cell_type": "markdown",
      "metadata": {
        "id": "IqQ_4-DqUSe2"
      },
      "source": [
        "Uma proporção de $80$***%*** do dataset foi utlizada para treino $(2282)$ observações e os $20$***%*** restantes utilizados para validar os modelos após o treinamento.\n",
        "\n",
        "dataset de treinamento terá $2282$ observações e $58$ variáveis.\n",
        "Será utilizado durante o treinamento um *6*-*fold* crossvalidation nesse dataset.\n",
        "\n",
        "O dataset de validação terá $571$ observaçoes e $58$ variáveis.\n",
        "e será onde testaremos a performance do nossos modelos.\n",
        "\n",
        "\n"
      ]
    },
    {
      "cell_type": "code",
      "metadata": {
        "colab": {
          "base_uri": "https://localhost:8080/",
          "height": 52
        },
        "id": "iQiXpTH40Wos",
        "outputId": "7621ab8c-0e90-48be-b4ef-39e88b76cc21"
      },
      "source": [
        "smp_size = smp_size <- floor(0.80 * nrow(dados))\n",
        "index = sample(1:dim(dados)[1], size= smp_size)\n",
        "\n",
        "training =  dados[index, ];\n",
        "paste(\"O dataset de treino possui\",dim(training)[1],'observações','e',dim(training)[2],'variáveis.')\n",
        "\n",
        "test = dados[-index, ];\n",
        "paste(\"O dataset de validação possui\",dim(test)[1],'observações','e',dim(test)[2],'variáveis.')"
      ],
      "execution_count": null,
      "outputs": [
        {
          "output_type": "display_data",
          "data": {
            "text/plain": [
              "[1] \"O dataset de treino possui 2282 observações e 58 variáveis.\""
            ],
            "text/latex": "'O dataset de treino possui 2282 observações e 58 variáveis.'",
            "text/markdown": "'O dataset de treino possui 2282 observações e 58 variáveis.'",
            "text/html": [
              "'O dataset de treino possui 2282 observações e 58 variáveis.'"
            ]
          },
          "metadata": {
            "tags": []
          }
        },
        {
          "output_type": "display_data",
          "data": {
            "text/plain": [
              "[1] \"O dataset de validação possui 571 observações e 58 variáveis.\""
            ],
            "text/latex": "'O dataset de validação possui 571 observações e 58 variáveis.'",
            "text/markdown": "'O dataset de validação possui 571 observações e 58 variáveis.'",
            "text/html": [
              "'O dataset de validação possui 571 observações e 58 variáveis.'"
            ]
          },
          "metadata": {
            "tags": []
          }
        }
      ]
    },
    {
      "cell_type": "markdown",
      "metadata": {
        "id": "FbMFrFf4YUOV"
      },
      "source": [
        "\n",
        "\n",
        "---\n",
        "\n"
      ]
    },
    {
      "cell_type": "markdown",
      "metadata": {
        "id": "zwyGIGciloOf"
      },
      "source": [
        "### *Treinamento dos modelos*\n",
        "\n",
        "\n",
        "\n"
      ]
    },
    {
      "cell_type": "markdown",
      "metadata": {
        "id": "Z4I_paDzCmsk"
      },
      "source": [
        "Iremos começar com **elasticnet**, um modelo mais simples, porém bastante satisfatório na maioria dos casos. Em seguida testaremos um modelo de **Random Forest**\n",
        "para termos uma alternativa caso o primeiro falhe.\n"
      ]
    },
    {
      "cell_type": "markdown",
      "metadata": {
        "id": "wHMkmFdFVJEj"
      },
      "source": [
        "#### ***(1) Elasticnet***\n"
      ]
    },
    {
      "cell_type": "markdown",
      "metadata": {
        "id": "lgBSbh00YK-v"
      },
      "source": [
        "A função de log-verossimilhança do glmnet é dada a seguir.\n",
        "Para obter as estimativas do vetor $\\pmb{\\beta}$ deve-se minimizar a função em relação aos betas."
      ]
    },
    {
      "cell_type": "markdown",
      "metadata": {
        "id": "5W_HrYmiVjiN"
      },
      "source": [
        "Perceba que é a função de log-verossimilhanca obtida no modelo de regressão logística comum com dois tipos de regularização ($L_1$ e $L_2$)\n",
        " \n",
        ">$$-\\ell(\\pmb{\\beta} \\ | \\ \\pmb{X})$ = -\\frac{1}{N}\\sum_{i=1}^N y_i (\\beta_0+x_{i}^\\intercal\\pmb{\\beta})-\\log(1+e^{(\\beta_0+x_{i}^\\intercal\\pmb{\\beta})})+\\lambda\\left[(1-\\alpha)||\\pmb{\\beta}||_2^2/2+\\alpha||\\pmb{\\beta}||_1^1\\right] $$"
      ]
    },
    {
      "cell_type": "markdown",
      "metadata": {
        "id": "VOuASZ_TvfKk"
      },
      "source": [
        "***Parâmetros e hiperparâmetros do modelo***"
      ]
    },
    {
      "cell_type": "markdown",
      "metadata": {
        "id": "KASZHGtavll-"
      },
      "source": [
        "Os parâmetros para treinamento do modelo é o vetor:  $$\\theta = \\pmb{\\beta} = \\left(\\beta_1,\\ \\beta_2, \\ldots, \\ \\beta_N \\right)^\\intercal $$ $\\hat{\\pmb{\\beta}}$ pode ser estimado pelo método da máxima verossimilhança, ou seja,     \n",
        "minimizando $-\\ell(\\pmb{\\beta} \\ | \\ \\pmb{X})$\n",
        "\n",
        "\n",
        "O vetor de hiperparametros, $\\pmb{\\eta} = \\left(\\alpha, \\  \\lambda \\right)^\\intercal$ deve ser escolhido utilizando alguma heurística. Aqui utilizaremos o método de busca em grade (grid search), que nada mais é que treinar o modelo utilizando um produto cartesiano de intervalos de valores possíveis pros hiperparâmetros e escolher qual combinação traz o melhor ajuste.\n",
        "\n",
        "\n",
        "**Aqui,  $\\alpha$ controla a importância de cada tipo de regularização no modelo ($L_1$ e $L_2$) e $\\lambda$ controla a quantidade de regularização utilizada**\n",
        "\n",
        "As seguintes restrições são impostas para os hiperparâmetros:\n",
        "\n",
        "$ \\alpha \\in \\left[0,\\ 1 \\right]$ e $\\lambda > 0$\n"
      ]
    },
    {
      "cell_type": "markdown",
      "metadata": {
        "id": "Wb5cUL7gYm_j"
      },
      "source": [
        "Utilizando o método **Grid search**, os hiperparâmetros podem ser tunados, de forma a otimizar o modelo"
      ]
    },
    {
      "cell_type": "code",
      "metadata": {
        "id": "xEA23ow4lY-y"
      },
      "source": [
        "##produto cartesiano do espaço hiper-paramétrico para realizar grid search\n",
        "grid_glm <- expand.grid(alpha = seq(0,1,0.1), lambda = seq(0.001,0.3,by = 0.01))\n",
        "\n",
        "controle = trainControl(method = \"cv\",\n",
        "                       number=6,\n",
        "                       returnResamp=\"all\",\n",
        "                       classProbs = TRUE,\n",
        "                       summaryFunction = twoClassSummary,\n",
        "                       verboseIter = TRUE)\n",
        "\n",
        "modelo1 <- train(Variavel_resposta~ ., \n",
        "                             method = \"glmnet\", \n",
        "                             trControl = controle,\n",
        "                             metric = \"ROC\",\n",
        "                             data = training,\n",
        "                             tuneGrid =grid_glm)\n",
        "\n",
        "modelo1"
      ],
      "execution_count": null,
      "outputs": []
    },
    {
      "cell_type": "markdown",
      "metadata": {
        "id": "FlRw_gIEExUB"
      },
      "source": [
        "***Resultados do treinamento:***\n",
        "\n",
        "\n",
        "```\n",
        "Aggregating results\n",
        "Selecting tuning parameters\n",
        "Fitting alpha = 0.1, lambda = 0.001 on full training set\n",
        "glmnet \n",
        "\n",
        "2282 samples\n",
        "  57 predictor\n",
        "   2 classes: 'Nao', 'Sim' \n",
        "\n",
        "No pre-processing\n",
        "Resampling: Cross-Validated (6 fold) \n",
        "Summary of sample sizes: 1902, 1902, 1901, 1902, 1902, 1901, ...\n",
        "\n",
        "```\n",
        "\n"
      ]
    },
    {
      "cell_type": "markdown",
      "metadata": {
        "id": "hewuBxpfFGcF"
      },
      "source": [
        "***Matriz de confusão para o modelo***"
      ]
    },
    {
      "cell_type": "markdown",
      "metadata": {
        "id": "al3P0xEP6-hE"
      },
      "source": [
        "Embora as classes estejam desbalanceadas, conseguimos obter um modelo com uma acurácia de $0.71$ e um escore ***F1*** igual a $0,81$ que é moderadamente elevado e significativo. \n",
        "\n",
        "O teste binomial para acurácia não foi significativo ($p = 0.1142$), assim não temos indícios suficientes para rejeitar a Hipótese nula $$H0:Acc \\leq NIR$$ \n",
        "\n",
        "Perceba que a *No Information Rate* é muito próxima da *Acurácia*.\n",
        "significando que se uma pessoa escolher classificar manualmente cada nova observação na classe negativa, ela teria um acerto de $67$% equanto que o modelo em torno de $69$%. \n",
        "\n",
        "O ***recall*** do modelo foi de apenas $29$%\n",
        "o que indica que temos um alto número de falsos negativos.\n",
        "\n",
        "A **precisão*** foi de $57$%\n",
        "O que indica um elevado numero de falsos positivos\n",
        "\n",
        "\n",
        "O escore $$F1 = 0.3916$$ é baixo , o que pode ser considerado ruim, pois $F1$ é uma medida que é usada quando temos classes desbalanceadas, que é nosso o nosso caso.\n",
        "\n",
        "\n",
        "O **kappa de Cohen** de $0.2143$ é considerado baixo, o que torna o modelo pouco confiável.\n",
        "\n",
        "Portanto, não temos um bom modelo."
      ]
    },
    {
      "cell_type": "code",
      "metadata": {
        "id": "n2TeLjUAT5ry"
      },
      "source": [
        "preditos = predict(modelo1, test[,-58])\n",
        "confusionMatrix(table(preditos,test$Variavel_resposta),positive='Sim')\n",
        "paste('Escore F1:',' ',F1_escore(preditos,test$Variavel_resposta))"
      ],
      "execution_count": null,
      "outputs": []
    },
    {
      "cell_type": "markdown",
      "metadata": {
        "id": "bs-vWYrGHksZ"
      },
      "source": [
        "\n",
        "\n",
        "```\n",
        "Confusion Matrix and Statistics\n",
        "\n",
        "        \n",
        "preditos Nao Sim\n",
        "     Nao 341 132\n",
        "     Sim  42  56\n",
        "                                          \n",
        "               Accuracy : 0.6953          \n",
        "                 95% CI : (0.6557, 0.7328)\n",
        "    No Information Rate : 0.6708          \n",
        "    P-Value [Acc > NIR] : 0.1142          \n",
        "                                          \n",
        "                  Kappa : 0.2143          \n",
        "                                          \n",
        " Mcnemar's Test P-Value : 1.509e-11       \n",
        "                                          \n",
        "            Sensitivity : 0.29787         \n",
        "            Specificity : 0.89034         \n",
        "         Pos Pred Value : 0.57143         \n",
        "         Neg Pred Value : 0.72093         \n",
        "             Prevalence : 0.32925         \n",
        "         Detection Rate : 0.09807         \n",
        "   Detection Prevalence : 0.17163         \n",
        "      Balanced Accuracy : 0.59411         \n",
        "                                          \n",
        "       'Positive' Class : Sim             \n",
        "                                          \n",
        "'Escore F1:   0.391608391608392'\n",
        "```\n",
        "\n"
      ]
    },
    {
      "cell_type": "markdown",
      "metadata": {
        "id": "-nOdYdK8Kd98"
      },
      "source": [
        "Perceba que o $\\phi$ de pearson é muito baixo $(0.23)$. Quanto mais próximo de zero, pior o modelo (ausência de correlação) entre o que foi predito e o que é de fato verdade.  "
      ]
    },
    {
      "cell_type": "code",
      "metadata": {
        "colab": {
          "base_uri": "https://localhost:8080/",
          "height": 34
        },
        "id": "6ipyd7wKJcwb",
        "outputId": "40bb4013-d54b-427a-f2c1-d250cf60dc3d"
      },
      "source": [
        "##Phi de pearson glmnet\n",
        "((341*56)-(42*132))/sqrt((341+42)*(132+56)*(341+132)*(42+56))"
      ],
      "execution_count": null,
      "outputs": [
        {
          "output_type": "display_data",
          "data": {
            "text/plain": [
              "[1] 0.2345749"
            ],
            "text/latex": "0.23457486397265",
            "text/markdown": "0.23457486397265",
            "text/html": [
              "0.23457486397265"
            ]
          },
          "metadata": {
            "tags": []
          }
        }
      ]
    },
    {
      "cell_type": "markdown",
      "metadata": {
        "id": "veejFH0dtHs6"
      },
      "source": [
        "\n",
        "\n",
        "---\n",
        "\n"
      ]
    },
    {
      "cell_type": "markdown",
      "metadata": {
        "id": "E0zvVPOu7hOf"
      },
      "source": [
        " \n",
        "#### ***(2) Random Forest***\n",
        " \n",
        " \n",
        "Abaixo iremos treinar um modelo de Random Forest, que nada mais é que um ensemble de classification trees, o que o torna um método versátil (classificação e regressão) e poderoso, devido ao fato de na maioria dos casos sobrepujar modelos lineares."
      ]
    },
    {
      "cell_type": "markdown",
      "metadata": {
        "id": "UCT7rTNwDxyF"
      },
      "source": [
        "\n",
        "\n",
        "*   ***Hiperparâmetros do modelo***\n",
        "\n",
        "\n",
        "\n"
      ]
    },
    {
      "cell_type": "code",
      "metadata": {
        "id": "hgxXo5mP0EJL"
      },
      "source": [
        "install.packages(\"ranger\")\n",
        " \n",
        "rf_grid <- expand.grid(mtry = c(2, 3, 4, 5),\n",
        "                      splitrule = c(\"gini\", \"extratrees\"),\n",
        "                      min.node.size = c(1, 3, 5))\n",
        " \n",
        " \n",
        "cctrl2 <- trainControl(method = \"cv\", number=6, returnResamp=\"all\",\n",
        "                       classProbs = TRUE,\n",
        "                       summaryFunction = twoClassSummary,\n",
        "                       verboseIter = TRUE)\n",
        " \n",
        "test_class_cv_model2 <- train(Variavel_resposta~ ., method = \"ranger\", \n",
        "                             trControl = cctrl2, metric = \"ROC\",\n",
        "                             data = training,\n",
        "                            # preProc = c(\"center\", \"scale\"),\n",
        "                             tuneGrid =rf_grid )\n",
        " \n",
        "test_class_cv_model2"
      ],
      "execution_count": null,
      "outputs": []
    },
    {
      "cell_type": "markdown",
      "metadata": {
        "id": "D91Ilr15_tbA"
      },
      "source": [
        "***Resultados do treinamento:***\n",
        "\n",
        "\n",
        "\n",
        "\n",
        "Abaixo temos o resumo do treinamento do modelo com as iterações do tunning dos hiperparâmetros nas subamostras do cross-validation (6-fold CV)\n",
        "\n",
        "***Summary of sample sizes*** diz qual o tamanho de cada sub-amostra para onde o conjunto foi treinado.\n",
        "\n",
        "Os valores dos hiper-parâmetros escolhidos após o grid search foram: \n",
        "\n",
        "***mtry = 5, splitrule = extratrees, min.node.size = 1***\n",
        "\n",
        "\n",
        "```\n",
        "Random Forest \n",
        "\n",
        "2282 samples\n",
        "  57 predictor\n",
        "   2 classes: 'Nao', 'Sim' \n",
        "\n",
        "No pre-processing\n",
        "Resampling: Cross-Validated (6 fold) \n",
        "Summary of sample sizes: 1902, 1902, 1902, 1901, 1901, 1902, ... \n",
        "Resampling results across tuning parameters:\n",
        "\n",
        "  mtry  splitrule   min.node.size  ROC        Sens       Spec     \n",
        "  4     extratrees  1              0.9455625  0.9332716  0.7968750\n",
        "  4     extratrees  3              0.9436413  0.9332716  0.7734375\n",
        "  4     extratrees  5              0.9394240  0.9312849  0.7604167\n",
        "  5     gini        1              0.9403510  0.9319515  0.7955729\n",
        "  5     gini        3              0.9393913  0.9332716  0.7890625\n",
        "  5     gini        5              0.9384516  0.9306314  0.7838542\n",
        "  5     extratrees  1              0.9466377  0.9319489  0.7981771\n",
        "  \n",
        "\n",
        "ROC was used to select the optimal model using the largest value.\n",
        "The final values used for the model were mtry = 5, splitrule = extratrees\n",
        " and min.node.size = 1. \n",
        "```"
      ]
    },
    {
      "cell_type": "markdown",
      "metadata": {
        "id": "bDGCDtsLAfBz"
      },
      "source": [
        "***Matriz de confusão para o modelo***"
      ]
    },
    {
      "cell_type": "code",
      "metadata": {
        "id": "TaGxpvQGjab0"
      },
      "source": [
        "preditos2 = predict(test_class_cv_model2, test[,-58])\n",
        "confusionMatrix(table(preditos2, test$Variavel_resposta), positive = 'Sim')\n",
        "paste('Escore F1:',' ',F1_Score(preditos2, test$Variavel_resposta))"
      ],
      "execution_count": null,
      "outputs": []
    },
    {
      "cell_type": "markdown",
      "metadata": {
        "id": "7zlNyhlhMTQz"
      },
      "source": [
        "A ***acurácia*** geral para o modelo de Random Forest foi de $\\bf{0.8809}$, que é $1,26$ vezes maior que a do modelo de Regresão logística regularizado.\n",
        " \n",
        "O teste binomial para a acurácia, dado por:\n",
        "\n",
        ">$H_0: Acc = NIR$\n",
        "\n",
        "versus\n",
        "\n",
        ">$H_1: Acc < NIR$\n",
        "\n",
        "retornou um ***valor p*** próximo de zero (altamente significativo). Portanto, podemos afirmar que o modelo é bastante confiável e que performa bem em relação a um classificador 'ingênuo' ou sem informação.\n",
        "\n",
        "Abaixo iremos ver outras estatísticas mais precisas sobre o modelo."
      ]
    },
    {
      "cell_type": "markdown",
      "metadata": {
        "id": "jb4mAhh62xRy"
      },
      "source": [
        "\n",
        "\n",
        "```\n",
        "Confusion Matrix and Statistics\n",
        "\n",
        "         \n",
        "preditos2 Nao Sim\n",
        "      Nao 355  40\n",
        "      Sim  28 148\n",
        "                                          \n",
        "               Accuracy : 0.8809          \n",
        "                 95% CI : (0.8515, 0.9063)\n",
        "    No Information Rate : 0.6708          \n",
        "    P-Value [Acc > NIR] : <2e-16          \n",
        "                                          \n",
        "                  Kappa : 0.7259          \n",
        "                                          \n",
        " Mcnemar's Test P-Value : 0.1822          \n",
        "                                          \n",
        "            Sensitivity : 0.7872          \n",
        "            Specificity : 0.9269          \n",
        "         Pos Pred Value : 0.8409          \n",
        "         Neg Pred Value : 0.8987          \n",
        "             Prevalence : 0.3292          \n",
        "         Detection Rate : 0.2592          \n",
        "   Detection Prevalence : 0.3082          \n",
        "      Balanced Accuracy : 0.8571          \n",
        "                                          \n",
        "       'Positive' Class : Sim             \n",
        "                                          \n",
        "'Escore F1:   0.8131'\n",
        "```\n",
        "\n"
      ]
    },
    {
      "cell_type": "code",
      "metadata": {
        "colab": {
          "base_uri": "https://localhost:8080/",
          "height": 34
        },
        "id": "o2l1wrV3Hy49",
        "outputId": "219d9ca1-e87a-4dac-e749-550c5cf1c66e"
      },
      "source": [
        "## Phi de Pearson RF\n",
        "((355*148)-(28*40))/sqrt((355+28)*(40+148)*(349+40)*(28+148))"
      ],
      "execution_count": null,
      "outputs": [
        {
          "output_type": "display_data",
          "data": {
            "text/plain": [
              "[1] 0.7323566"
            ],
            "text/latex": "0.732356644424992",
            "text/markdown": "0.732356644424992",
            "text/html": [
              "0.732356644424992"
            ]
          },
          "metadata": {
            "tags": []
          }
        }
      ]
    },
    {
      "cell_type": "markdown",
      "metadata": {
        "id": "3Ecx-bVBLANi"
      },
      "source": [
        "Nesse modelo obtivemos um $\\phi$ excelente!\n",
        "$$\\phi= 0.73$$"
      ]
    },
    {
      "cell_type": "markdown",
      "metadata": {
        "id": "q5QJB9-NAoc9"
      },
      "source": [
        "\n",
        "A estatística ***Kappa de cohen*** dada por $\\kappa = \\bf{0.7259}$ é excelente, o que significa que o modelo performa bem em relação á um modelo regido por aleatoriedade. Isto é, ela compara as frequencias observadas com as frequencias esperadas\n",
        "\n",
        "O teste de ***McNemar*** não foi estatísticamente significativo, o que quer dizer que existe hogomeneidade entre as margens da tabela. Isto é, nosso classificador tem elevada concordância com os valores verdadeiros do conjunto de treino\n",
        "\n",
        "As frequencias esperadas são os valores que qualquer classificador aleatorio esperaria alcançar e as observadas são as obtidas pelo nosso modelo de Random Forest. Nosso classificador apresenta um alto grau de concordância com os valores que foram observado de fato no nosso conjunto de validação.\n",
        "\n",
        "O ***Recall*** do RF foi de $\\bf{78}$***%*** o que indica que ele performa muito bem em relação aos falsos negativos, pois possui poucos. \n",
        "\n",
        "\n",
        "A ***Precisão*** do modelo foi de $\\bf{84}$***%***. \n",
        "Isso quer dizer que de todos os valores preditos como positivos, $\\bf{84}$***%***. eram de fato positivos\n",
        "\n",
        "O escore ***F1*** do modelo é bastante alto ($\\bf{0.81}$). Aparentemente o médio desbalanceamento das classes nao afetou o Random Forest.\n",
        "\n",
        "\n",
        "Uma das vantagens do ***Random Forest*** sobre outros modelos tradicionais de machine learning, é que ele dificilmente sofre sobreajuste (overfitting) e utilizando Cross Validation, essa possibilidade se torna ínfima."
      ]
    },
    {
      "cell_type": "markdown",
      "metadata": {
        "id": "faxnUVVUDmpn"
      },
      "source": [
        "\n",
        "\n",
        "---\n",
        "\n"
      ]
    },
    {
      "cell_type": "markdown",
      "metadata": {
        "id": "miFGJJEADf4Z"
      },
      "source": [
        "#### ***(3) Random Forest com Oversampling***\n",
        "\n",
        "\n"
      ]
    },
    {
      "cell_type": "markdown",
      "metadata": {
        "id": "zxpJFGwg0Qbs"
      },
      "source": [
        "Aqui utilizaremos uma técnica de oversampling conhecida como SMOTE (*Synthetic Minority Oversampling Technique*) para tentarmos balancear a classe subamostrada e aferir se terá alguma implicação positiva no modelo.\n",
        "Para isso, adicionaremos o argumento  \n",
        "\n",
        "```\n",
        "sampling = 'smote'\n",
        "```\n",
        "na função \n",
        "\n",
        "```\n",
        "trainControl\n",
        "```\n",
        "\n"
      ]
    },
    {
      "cell_type": "code",
      "metadata": {
        "id": "jVf66-u8DfGe"
      },
      "source": [
        "rf_grid3 <- expand.grid(mtry = c(2, 3, 4, 5),\n",
        "                      splitrule = c(\"gini\", \"extratrees\"),\n",
        "                      min.node.size = c(1, 3, 5))\n",
        "\n",
        "\n",
        "cctrl3 <- trainControl(method = \"cv\", number=6, \n",
        "                       returnResamp=\"all\",\n",
        "                       classProbs = TRUE,\n",
        "                       summaryFunction = twoClassSummary,\n",
        "                       verboseIter = TRUE,\n",
        "                       sampling = 'smote')\n",
        "\n",
        "test_class_cv_model3 <- train(Variavel_resposta~ ., method = \"ranger\", \n",
        "                             trControl = cctrl3,\n",
        "                             metric = \"ROC\",\n",
        "                             data = training,\n",
        "                             tuneGrid =rf_grid )\n"
      ],
      "execution_count": null,
      "outputs": []
    },
    {
      "cell_type": "code",
      "metadata": {
        "id": "sT6ijArtza1F"
      },
      "source": [
        "test_class_cv_model3 "
      ],
      "execution_count": null,
      "outputs": []
    },
    {
      "cell_type": "markdown",
      "metadata": {
        "id": "QroU3Df15-e8"
      },
      "source": [
        "**Resultados do modelo:**"
      ]
    },
    {
      "cell_type": "markdown",
      "metadata": {
        "id": "mtihPj9W5xOE"
      },
      "source": [
        "\n",
        "\n",
        "```\n",
        "Random Forest \n",
        "\n",
        "2282 samples\n",
        "  57 predictor\n",
        "   2 classes: 'Nao', 'Sim' \n",
        "\n",
        "No pre-processing\n",
        "Resampling: Cross-Validated (6 fold) \n",
        "Summary of sample sizes: 1901, 1902, 1902, 1902, 1901, 1902, ... \n",
        "Addtional sampling using SMOTE\n",
        "\n",
        "Resampling results across tuning parameters:\n",
        "\n",
        "  mtry  splitrule   min.node.size  ROC        Sens       Spec     \n",
        "  2     gini        1              0.9298651  0.9351191  0.7513228\n",
        "  2     gini        3              0.9313598  0.9285678  0.7949735\n",
        "  5     extratrees  1              0.9420990  0.9338145  0.7857143\n",
        "  \n",
        "ROC was used to select the optimal model using the largest value.\n",
        "The final values used for the model were mtry = 5, splitrule = extratrees\n",
        " and min.node.size = 1.\n",
        " ```\n",
        "\n"
      ]
    },
    {
      "cell_type": "markdown",
      "metadata": {
        "id": "VZqfB8ku6C4-"
      },
      "source": [
        "**Matriz de confusão:**"
      ]
    },
    {
      "cell_type": "code",
      "metadata": {
        "id": "1M7zswdpzjVL"
      },
      "source": [
        "preditos3 = predict(test_class_cv_model3, test[,-58])\n",
        "confusionMatrix(table(preditos3, test$Variavel_resposta), positive = 'Sim')\n",
        "paste('Escore F1:',' ',F1_escore(preditos3,test$Variavel_resposta))"
      ],
      "execution_count": null,
      "outputs": []
    },
    {
      "cell_type": "markdown",
      "metadata": {
        "id": "3-hJ9cdq6JlT"
      },
      "source": [
        "\n",
        "\n",
        "```\n",
        "Confusion Matrix and Statistics\n",
        "\n",
        "         \n",
        "preditos3 Nao Sim\n",
        "      Nao 349  40\n",
        "      Sim  34 148\n",
        "                                          \n",
        "               Accuracy : 0.8704          \n",
        "                 95% CI : (0.8401, 0.8969)\n",
        "    No Information Rate : 0.6708          \n",
        "    P-Value [Acc > NIR] : <2e-16          \n",
        "                                          \n",
        "                  Kappa : 0.7042          \n",
        "                                          \n",
        " Mcnemar's Test P-Value : 0.5611          \n",
        "                                          \n",
        "            Sensitivity : 0.7872          \n",
        "            Specificity : 0.9112          \n",
        "         Pos Pred Value : 0.8132          \n",
        "         Neg Pred Value : 0.8972          \n",
        "             Prevalence : 0.3292          \n",
        "         Detection Rate : 0.2592          \n",
        "   Detection Prevalence : 0.3187          \n",
        "      Balanced Accuracy : 0.8492          \n",
        "                                          \n",
        "       'Positive' Class : Sim             \n",
        "                                          \n",
        "'Escore F1:   0.80'\n",
        "```\n",
        "\n"
      ]
    },
    {
      "cell_type": "code",
      "metadata": {
        "colab": {
          "base_uri": "https://localhost:8080/",
          "height": 34
        },
        "id": "v9PYwdyeCrCX",
        "outputId": "0496da9c-e8c9-437b-b71f-a5dcc67500a9"
      },
      "source": [
        "### Calculando o phi de pearson para nosso RF-SMOTE\n",
        "((349*148)-(40*34))/sqrt((34+148)*(148+40)*(349+34)*(349+40))"
      ],
      "execution_count": null,
      "outputs": [
        {
          "output_type": "display_data",
          "data": {
            "text/plain": [
              "[1] 0.704385"
            ],
            "text/latex": "0.704385002582194",
            "text/markdown": "0.704385002582194",
            "text/html": [
              "0.704385002582194"
            ]
          },
          "metadata": {
            "tags": []
          }
        }
      ]
    },
    {
      "cell_type": "markdown",
      "metadata": {
        "id": "dej2zaFduLrz"
      },
      "source": [
        "\n",
        "\n",
        "---\n",
        "\n"
      ]
    },
    {
      "cell_type": "markdown",
      "metadata": {
        "id": "TwSkCP0MuDP6"
      },
      "source": [
        "#Conclusão"
      ]
    },
    {
      "cell_type": "markdown",
      "metadata": {
        "id": "OlE0FltZILaF"
      },
      "source": [
        "Embora os modelos RF e RF-Smote sejam aparentemente idênticos, Random Forest sem oversampling foi o que melhor perfomou, trazendo evidências em ser mais consistente que os outros."
      ]
    },
    {
      "cell_type": "markdown",
      "metadata": {
        "id": "Grh4TjZ1EyMz"
      },
      "source": [
        "Escores obtidos em cada modelo:\n",
        "\n",
        "|  Modlelo/Escore | Acc | kappa |   AUC - ROC | Recall    |Precisão| F1   |$\\phi$ de Pearson|\n",
        "|-----------------|-----|-------|-------------|-----------|--------|------||\n",
        "| glmnet          |0.71 | 0.22  |     0.7111  |  0.3911   | 0.5578 |0.3981|0.23|\n",
        "| RF              |0.88 | 0.72  |     0.9466  |  0.7872   | 0.8409 |0.8131|0.73|\n",
        "| RF-smote        |0.87 | 0.70  |     0.9420  |  0.7872   | 0.8132 |0.8000|0.70|"
      ]
    },
    {
      "cell_type": "markdown",
      "metadata": {
        "id": "wV2hy_qsFDAn"
      },
      "source": [
        "É possivel melhorar ainda mais utilizando features criadas a partir da combinação linear ou não linear (ou outras funções) das variáveis utilizadas no modelo. A esse processo se dá o nome de ***feature engineering***. No entanto, é preferivel deixar para um trabalho futuro."
      ]
    },
    {
      "cell_type": "markdown",
      "metadata": {
        "id": "bq0xYTgSeEyf"
      },
      "source": [
        "\n",
        "\n",
        "*   ***Considerações finais***\n",
        "\n"
      ]
    },
    {
      "cell_type": "markdown",
      "metadata": {
        "id": "UYgdBz816TTT"
      },
      "source": [
        "Com o modelo testado, o proximo passo é definir uma uma estratégia de monitoramento do modelo\n",
        "que seja capaz de detectar qualquer drift na distribuição dos dados, evitando assim causar prejuízos ao negócio.\n",
        "Para isso existem métricas como PSI, K-S entre outras.\n",
        "\n",
        "Dependendo da infraestrutura do negócio, o deploy do(s) modelo(s) pode ser feito em uma arquitetura \n",
        "de microserviços utilizando kubernetes para gerenciar os containers docker onde os modelos rodam. \n",
        "\n",
        "É importante também definir um ciclo de integração contínua entre desenvolvimento, teste e produção para \n",
        "que haja melhora contínua na capacidade analítica da corporação e da infra estrutura em geral da empresa.\n"
      ]
    },
    {
      "cell_type": "markdown",
      "metadata": {
        "id": "VMvsAVlMa9wH"
      },
      "source": [
        "\n",
        "\n",
        "\n",
        "# Apêndice"
      ]
    },
    {
      "cell_type": "markdown",
      "metadata": {
        "id": "uNLwC0lGEUeW"
      },
      "source": [
        "O coeficiente $\\phi$ de pearson é uma métrica muito útil para medir a capacidade preditiva e confiabilidade de um classificador dicotômico cujo dataset de treino seja desbalanceado, pois é uma medida simétrica e não é afetada pelo desbalanceamento das classes. \n",
        "\n",
        "Se $\\phi = 0$ o modelo não é melhor que o lançamento de uma moeda honesta, se $\\phi = -1$ ou $1$ o modelo é ideal."
      ]
    },
    {
      "cell_type": "markdown",
      "metadata": {
        "id": "v4foM8fLFFi-"
      },
      "source": [
        ">$$ \\phi = \\frac{TP*TN-FP*FN}{\\sqrt{(TP+FP)(TP+FN)(TN+FP)(TN+FN)}} $$"
      ]
    },
    {
      "cell_type": "markdown",
      "metadata": {
        "id": "KQNNPB7uLqpx"
      },
      "source": [
        "\n",
        "\n",
        "---\n",
        "\n"
      ]
    },
    {
      "cell_type": "markdown",
      "metadata": {
        "id": "wc6vZCd-bEHV"
      },
      "source": [
        "Função criada para cálculo do escore F1 (Média harmônica entre precisão e recall)"
      ]
    },
    {
      "cell_type": "code",
      "metadata": {
        "id": "GdsMuQIvWFtC"
      },
      "source": [
        "F1_escore <- function(preditos, teste){\n",
        "   cm = confusionMatrix(preditos, teste, positive = 'Sim')\n",
        "   recall = cm$table[4]/(cm$table[4]+cm$table[2])\n",
        "   precision = cm$table[4]/(cm$table[4]+cm$table[3])\n",
        "   f1 = 2.000*((recall*precision)/(recall+precision))\n",
        "   return(f1)\n",
        "}"
      ],
      "execution_count": null,
      "outputs": []
    }
  ]
}